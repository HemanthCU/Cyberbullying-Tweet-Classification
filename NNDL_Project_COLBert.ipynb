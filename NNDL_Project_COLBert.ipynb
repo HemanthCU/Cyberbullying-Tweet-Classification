{
  "nbformat": 4,
  "nbformat_minor": 0,
  "metadata": {
    "colab": {
      "name": "NNDL_Project_COLBert.ipynb",
      "provenance": [],
      "collapsed_sections": []
    },
    "kernelspec": {
      "name": "python3",
      "display_name": "Python 3"
    },
    "language_info": {
      "name": "python"
    },
    "accelerator": "GPU",
    "widgets": {
      "application/vnd.jupyter.widget-state+json": {
        "6fd2d523ec894347be78c3b5983c0d28": {
          "model_module": "@jupyter-widgets/controls",
          "model_name": "HBoxModel",
          "model_module_version": "1.5.0",
          "state": {
            "_dom_classes": [],
            "_model_module": "@jupyter-widgets/controls",
            "_model_module_version": "1.5.0",
            "_model_name": "HBoxModel",
            "_view_count": null,
            "_view_module": "@jupyter-widgets/controls",
            "_view_module_version": "1.5.0",
            "_view_name": "HBoxView",
            "box_style": "",
            "children": [
              "IPY_MODEL_4ca89429dcb5427395a54d6e9d99d50c",
              "IPY_MODEL_61c1da669f0d4aeb899316434f4ebf9b",
              "IPY_MODEL_173f3a72c6164246987ea1b8fb855bd9"
            ],
            "layout": "IPY_MODEL_a4a3f68ba97947ca81f02570ee914997"
          }
        },
        "4ca89429dcb5427395a54d6e9d99d50c": {
          "model_module": "@jupyter-widgets/controls",
          "model_name": "HTMLModel",
          "model_module_version": "1.5.0",
          "state": {
            "_dom_classes": [],
            "_model_module": "@jupyter-widgets/controls",
            "_model_module_version": "1.5.0",
            "_model_name": "HTMLModel",
            "_view_count": null,
            "_view_module": "@jupyter-widgets/controls",
            "_view_module_version": "1.5.0",
            "_view_name": "HTMLView",
            "description": "",
            "description_tooltip": null,
            "layout": "IPY_MODEL_fd76db49903246a68789da9e2122dc0e",
            "placeholder": "​",
            "style": "IPY_MODEL_9622d81925534963a3cc3b9e71f0b101",
            "value": ""
          }
        },
        "61c1da669f0d4aeb899316434f4ebf9b": {
          "model_module": "@jupyter-widgets/controls",
          "model_name": "FloatProgressModel",
          "model_module_version": "1.5.0",
          "state": {
            "_dom_classes": [],
            "_model_module": "@jupyter-widgets/controls",
            "_model_module_version": "1.5.0",
            "_model_name": "FloatProgressModel",
            "_view_count": null,
            "_view_module": "@jupyter-widgets/controls",
            "_view_module_version": "1.5.0",
            "_view_name": "ProgressView",
            "bar_style": "success",
            "description": "",
            "description_tooltip": null,
            "layout": "IPY_MODEL_03c39459f5104a50a7b88abf9c3ef7cc",
            "max": 1,
            "min": 0,
            "orientation": "horizontal",
            "style": "IPY_MODEL_9288c1e1dbe74bf8b44ccef3127cdcf4",
            "value": 1
          }
        },
        "173f3a72c6164246987ea1b8fb855bd9": {
          "model_module": "@jupyter-widgets/controls",
          "model_name": "HTMLModel",
          "model_module_version": "1.5.0",
          "state": {
            "_dom_classes": [],
            "_model_module": "@jupyter-widgets/controls",
            "_model_module_version": "1.5.0",
            "_model_name": "HTMLModel",
            "_view_count": null,
            "_view_module": "@jupyter-widgets/controls",
            "_view_module_version": "1.5.0",
            "_view_name": "HTMLView",
            "description": "",
            "description_tooltip": null,
            "layout": "IPY_MODEL_6e88510c50ff4ecd87e59a84cdb90a32",
            "placeholder": "​",
            "style": "IPY_MODEL_c2c8a4052d5e40c0b19d9b6130279069",
            "value": " 38153/? [01:04&lt;00:00, 613.26it/s]"
          }
        },
        "a4a3f68ba97947ca81f02570ee914997": {
          "model_module": "@jupyter-widgets/base",
          "model_name": "LayoutModel",
          "model_module_version": "1.2.0",
          "state": {
            "_model_module": "@jupyter-widgets/base",
            "_model_module_version": "1.2.0",
            "_model_name": "LayoutModel",
            "_view_count": null,
            "_view_module": "@jupyter-widgets/base",
            "_view_module_version": "1.2.0",
            "_view_name": "LayoutView",
            "align_content": null,
            "align_items": null,
            "align_self": null,
            "border": null,
            "bottom": null,
            "display": null,
            "flex": null,
            "flex_flow": null,
            "grid_area": null,
            "grid_auto_columns": null,
            "grid_auto_flow": null,
            "grid_auto_rows": null,
            "grid_column": null,
            "grid_gap": null,
            "grid_row": null,
            "grid_template_areas": null,
            "grid_template_columns": null,
            "grid_template_rows": null,
            "height": null,
            "justify_content": null,
            "justify_items": null,
            "left": null,
            "margin": null,
            "max_height": null,
            "max_width": null,
            "min_height": null,
            "min_width": null,
            "object_fit": null,
            "object_position": null,
            "order": null,
            "overflow": null,
            "overflow_x": null,
            "overflow_y": null,
            "padding": null,
            "right": null,
            "top": null,
            "visibility": null,
            "width": null
          }
        },
        "fd76db49903246a68789da9e2122dc0e": {
          "model_module": "@jupyter-widgets/base",
          "model_name": "LayoutModel",
          "model_module_version": "1.2.0",
          "state": {
            "_model_module": "@jupyter-widgets/base",
            "_model_module_version": "1.2.0",
            "_model_name": "LayoutModel",
            "_view_count": null,
            "_view_module": "@jupyter-widgets/base",
            "_view_module_version": "1.2.0",
            "_view_name": "LayoutView",
            "align_content": null,
            "align_items": null,
            "align_self": null,
            "border": null,
            "bottom": null,
            "display": null,
            "flex": null,
            "flex_flow": null,
            "grid_area": null,
            "grid_auto_columns": null,
            "grid_auto_flow": null,
            "grid_auto_rows": null,
            "grid_column": null,
            "grid_gap": null,
            "grid_row": null,
            "grid_template_areas": null,
            "grid_template_columns": null,
            "grid_template_rows": null,
            "height": null,
            "justify_content": null,
            "justify_items": null,
            "left": null,
            "margin": null,
            "max_height": null,
            "max_width": null,
            "min_height": null,
            "min_width": null,
            "object_fit": null,
            "object_position": null,
            "order": null,
            "overflow": null,
            "overflow_x": null,
            "overflow_y": null,
            "padding": null,
            "right": null,
            "top": null,
            "visibility": null,
            "width": null
          }
        },
        "9622d81925534963a3cc3b9e71f0b101": {
          "model_module": "@jupyter-widgets/controls",
          "model_name": "DescriptionStyleModel",
          "model_module_version": "1.5.0",
          "state": {
            "_model_module": "@jupyter-widgets/controls",
            "_model_module_version": "1.5.0",
            "_model_name": "DescriptionStyleModel",
            "_view_count": null,
            "_view_module": "@jupyter-widgets/base",
            "_view_module_version": "1.2.0",
            "_view_name": "StyleView",
            "description_width": ""
          }
        },
        "03c39459f5104a50a7b88abf9c3ef7cc": {
          "model_module": "@jupyter-widgets/base",
          "model_name": "LayoutModel",
          "model_module_version": "1.2.0",
          "state": {
            "_model_module": "@jupyter-widgets/base",
            "_model_module_version": "1.2.0",
            "_model_name": "LayoutModel",
            "_view_count": null,
            "_view_module": "@jupyter-widgets/base",
            "_view_module_version": "1.2.0",
            "_view_name": "LayoutView",
            "align_content": null,
            "align_items": null,
            "align_self": null,
            "border": null,
            "bottom": null,
            "display": null,
            "flex": null,
            "flex_flow": null,
            "grid_area": null,
            "grid_auto_columns": null,
            "grid_auto_flow": null,
            "grid_auto_rows": null,
            "grid_column": null,
            "grid_gap": null,
            "grid_row": null,
            "grid_template_areas": null,
            "grid_template_columns": null,
            "grid_template_rows": null,
            "height": null,
            "justify_content": null,
            "justify_items": null,
            "left": null,
            "margin": null,
            "max_height": null,
            "max_width": null,
            "min_height": null,
            "min_width": null,
            "object_fit": null,
            "object_position": null,
            "order": null,
            "overflow": null,
            "overflow_x": null,
            "overflow_y": null,
            "padding": null,
            "right": null,
            "top": null,
            "visibility": null,
            "width": "20px"
          }
        },
        "9288c1e1dbe74bf8b44ccef3127cdcf4": {
          "model_module": "@jupyter-widgets/controls",
          "model_name": "ProgressStyleModel",
          "model_module_version": "1.5.0",
          "state": {
            "_model_module": "@jupyter-widgets/controls",
            "_model_module_version": "1.5.0",
            "_model_name": "ProgressStyleModel",
            "_view_count": null,
            "_view_module": "@jupyter-widgets/base",
            "_view_module_version": "1.2.0",
            "_view_name": "StyleView",
            "bar_color": null,
            "description_width": ""
          }
        },
        "6e88510c50ff4ecd87e59a84cdb90a32": {
          "model_module": "@jupyter-widgets/base",
          "model_name": "LayoutModel",
          "model_module_version": "1.2.0",
          "state": {
            "_model_module": "@jupyter-widgets/base",
            "_model_module_version": "1.2.0",
            "_model_name": "LayoutModel",
            "_view_count": null,
            "_view_module": "@jupyter-widgets/base",
            "_view_module_version": "1.2.0",
            "_view_name": "LayoutView",
            "align_content": null,
            "align_items": null,
            "align_self": null,
            "border": null,
            "bottom": null,
            "display": null,
            "flex": null,
            "flex_flow": null,
            "grid_area": null,
            "grid_auto_columns": null,
            "grid_auto_flow": null,
            "grid_auto_rows": null,
            "grid_column": null,
            "grid_gap": null,
            "grid_row": null,
            "grid_template_areas": null,
            "grid_template_columns": null,
            "grid_template_rows": null,
            "height": null,
            "justify_content": null,
            "justify_items": null,
            "left": null,
            "margin": null,
            "max_height": null,
            "max_width": null,
            "min_height": null,
            "min_width": null,
            "object_fit": null,
            "object_position": null,
            "order": null,
            "overflow": null,
            "overflow_x": null,
            "overflow_y": null,
            "padding": null,
            "right": null,
            "top": null,
            "visibility": null,
            "width": null
          }
        },
        "c2c8a4052d5e40c0b19d9b6130279069": {
          "model_module": "@jupyter-widgets/controls",
          "model_name": "DescriptionStyleModel",
          "model_module_version": "1.5.0",
          "state": {
            "_model_module": "@jupyter-widgets/controls",
            "_model_module_version": "1.5.0",
            "_model_name": "DescriptionStyleModel",
            "_view_count": null,
            "_view_module": "@jupyter-widgets/base",
            "_view_module_version": "1.2.0",
            "_view_name": "StyleView",
            "description_width": ""
          }
        },
        "268d548f682b40f18a4a63b7a8cdf602": {
          "model_module": "@jupyter-widgets/controls",
          "model_name": "HBoxModel",
          "model_module_version": "1.5.0",
          "state": {
            "_dom_classes": [],
            "_model_module": "@jupyter-widgets/controls",
            "_model_module_version": "1.5.0",
            "_model_name": "HBoxModel",
            "_view_count": null,
            "_view_module": "@jupyter-widgets/controls",
            "_view_module_version": "1.5.0",
            "_view_name": "HBoxView",
            "box_style": "",
            "children": [
              "IPY_MODEL_cef03df5e7fa4e02b7a9bd400e73e78c",
              "IPY_MODEL_fa8c4bd59bc34df8964bb27ef3b8a7f0",
              "IPY_MODEL_427c37010c044b8a87755418996179d6"
            ],
            "layout": "IPY_MODEL_366b32e94492489db6e78e2f73336a26"
          }
        },
        "cef03df5e7fa4e02b7a9bd400e73e78c": {
          "model_module": "@jupyter-widgets/controls",
          "model_name": "HTMLModel",
          "model_module_version": "1.5.0",
          "state": {
            "_dom_classes": [],
            "_model_module": "@jupyter-widgets/controls",
            "_model_module_version": "1.5.0",
            "_model_name": "HTMLModel",
            "_view_count": null,
            "_view_module": "@jupyter-widgets/controls",
            "_view_module_version": "1.5.0",
            "_view_name": "HTMLView",
            "description": "",
            "description_tooltip": null,
            "layout": "IPY_MODEL_7a2bca1169aa47d39ebfa1cb8555eebf",
            "placeholder": "​",
            "style": "IPY_MODEL_3751330da18e45b2abaab94ac6e5ba5b",
            "value": ""
          }
        },
        "fa8c4bd59bc34df8964bb27ef3b8a7f0": {
          "model_module": "@jupyter-widgets/controls",
          "model_name": "FloatProgressModel",
          "model_module_version": "1.5.0",
          "state": {
            "_dom_classes": [],
            "_model_module": "@jupyter-widgets/controls",
            "_model_module_version": "1.5.0",
            "_model_name": "FloatProgressModel",
            "_view_count": null,
            "_view_module": "@jupyter-widgets/controls",
            "_view_module_version": "1.5.0",
            "_view_name": "ProgressView",
            "bar_style": "success",
            "description": "",
            "description_tooltip": null,
            "layout": "IPY_MODEL_bbb8a6dd060a49d9916efb5cd289e2fc",
            "max": 1,
            "min": 0,
            "orientation": "horizontal",
            "style": "IPY_MODEL_9f156d31246243baab344be1b0d14b24",
            "value": 1
          }
        },
        "427c37010c044b8a87755418996179d6": {
          "model_module": "@jupyter-widgets/controls",
          "model_name": "HTMLModel",
          "model_module_version": "1.5.0",
          "state": {
            "_dom_classes": [],
            "_model_module": "@jupyter-widgets/controls",
            "_model_module_version": "1.5.0",
            "_model_name": "HTMLModel",
            "_view_count": null,
            "_view_module": "@jupyter-widgets/controls",
            "_view_module_version": "1.5.0",
            "_view_name": "HTMLView",
            "description": "",
            "description_tooltip": null,
            "layout": "IPY_MODEL_12087fa25d5644a3b9c3f71153ba5a79",
            "placeholder": "​",
            "style": "IPY_MODEL_523ca1d1c7754ffb9b27f80bd085b54b",
            "value": " 9539/? [00:16&lt;00:00, 423.74it/s]"
          }
        },
        "366b32e94492489db6e78e2f73336a26": {
          "model_module": "@jupyter-widgets/base",
          "model_name": "LayoutModel",
          "model_module_version": "1.2.0",
          "state": {
            "_model_module": "@jupyter-widgets/base",
            "_model_module_version": "1.2.0",
            "_model_name": "LayoutModel",
            "_view_count": null,
            "_view_module": "@jupyter-widgets/base",
            "_view_module_version": "1.2.0",
            "_view_name": "LayoutView",
            "align_content": null,
            "align_items": null,
            "align_self": null,
            "border": null,
            "bottom": null,
            "display": null,
            "flex": null,
            "flex_flow": null,
            "grid_area": null,
            "grid_auto_columns": null,
            "grid_auto_flow": null,
            "grid_auto_rows": null,
            "grid_column": null,
            "grid_gap": null,
            "grid_row": null,
            "grid_template_areas": null,
            "grid_template_columns": null,
            "grid_template_rows": null,
            "height": null,
            "justify_content": null,
            "justify_items": null,
            "left": null,
            "margin": null,
            "max_height": null,
            "max_width": null,
            "min_height": null,
            "min_width": null,
            "object_fit": null,
            "object_position": null,
            "order": null,
            "overflow": null,
            "overflow_x": null,
            "overflow_y": null,
            "padding": null,
            "right": null,
            "top": null,
            "visibility": null,
            "width": null
          }
        },
        "7a2bca1169aa47d39ebfa1cb8555eebf": {
          "model_module": "@jupyter-widgets/base",
          "model_name": "LayoutModel",
          "model_module_version": "1.2.0",
          "state": {
            "_model_module": "@jupyter-widgets/base",
            "_model_module_version": "1.2.0",
            "_model_name": "LayoutModel",
            "_view_count": null,
            "_view_module": "@jupyter-widgets/base",
            "_view_module_version": "1.2.0",
            "_view_name": "LayoutView",
            "align_content": null,
            "align_items": null,
            "align_self": null,
            "border": null,
            "bottom": null,
            "display": null,
            "flex": null,
            "flex_flow": null,
            "grid_area": null,
            "grid_auto_columns": null,
            "grid_auto_flow": null,
            "grid_auto_rows": null,
            "grid_column": null,
            "grid_gap": null,
            "grid_row": null,
            "grid_template_areas": null,
            "grid_template_columns": null,
            "grid_template_rows": null,
            "height": null,
            "justify_content": null,
            "justify_items": null,
            "left": null,
            "margin": null,
            "max_height": null,
            "max_width": null,
            "min_height": null,
            "min_width": null,
            "object_fit": null,
            "object_position": null,
            "order": null,
            "overflow": null,
            "overflow_x": null,
            "overflow_y": null,
            "padding": null,
            "right": null,
            "top": null,
            "visibility": null,
            "width": null
          }
        },
        "3751330da18e45b2abaab94ac6e5ba5b": {
          "model_module": "@jupyter-widgets/controls",
          "model_name": "DescriptionStyleModel",
          "model_module_version": "1.5.0",
          "state": {
            "_model_module": "@jupyter-widgets/controls",
            "_model_module_version": "1.5.0",
            "_model_name": "DescriptionStyleModel",
            "_view_count": null,
            "_view_module": "@jupyter-widgets/base",
            "_view_module_version": "1.2.0",
            "_view_name": "StyleView",
            "description_width": ""
          }
        },
        "bbb8a6dd060a49d9916efb5cd289e2fc": {
          "model_module": "@jupyter-widgets/base",
          "model_name": "LayoutModel",
          "model_module_version": "1.2.0",
          "state": {
            "_model_module": "@jupyter-widgets/base",
            "_model_module_version": "1.2.0",
            "_model_name": "LayoutModel",
            "_view_count": null,
            "_view_module": "@jupyter-widgets/base",
            "_view_module_version": "1.2.0",
            "_view_name": "LayoutView",
            "align_content": null,
            "align_items": null,
            "align_self": null,
            "border": null,
            "bottom": null,
            "display": null,
            "flex": null,
            "flex_flow": null,
            "grid_area": null,
            "grid_auto_columns": null,
            "grid_auto_flow": null,
            "grid_auto_rows": null,
            "grid_column": null,
            "grid_gap": null,
            "grid_row": null,
            "grid_template_areas": null,
            "grid_template_columns": null,
            "grid_template_rows": null,
            "height": null,
            "justify_content": null,
            "justify_items": null,
            "left": null,
            "margin": null,
            "max_height": null,
            "max_width": null,
            "min_height": null,
            "min_width": null,
            "object_fit": null,
            "object_position": null,
            "order": null,
            "overflow": null,
            "overflow_x": null,
            "overflow_y": null,
            "padding": null,
            "right": null,
            "top": null,
            "visibility": null,
            "width": "20px"
          }
        },
        "9f156d31246243baab344be1b0d14b24": {
          "model_module": "@jupyter-widgets/controls",
          "model_name": "ProgressStyleModel",
          "model_module_version": "1.5.0",
          "state": {
            "_model_module": "@jupyter-widgets/controls",
            "_model_module_version": "1.5.0",
            "_model_name": "ProgressStyleModel",
            "_view_count": null,
            "_view_module": "@jupyter-widgets/base",
            "_view_module_version": "1.2.0",
            "_view_name": "StyleView",
            "bar_color": null,
            "description_width": ""
          }
        },
        "12087fa25d5644a3b9c3f71153ba5a79": {
          "model_module": "@jupyter-widgets/base",
          "model_name": "LayoutModel",
          "model_module_version": "1.2.0",
          "state": {
            "_model_module": "@jupyter-widgets/base",
            "_model_module_version": "1.2.0",
            "_model_name": "LayoutModel",
            "_view_count": null,
            "_view_module": "@jupyter-widgets/base",
            "_view_module_version": "1.2.0",
            "_view_name": "LayoutView",
            "align_content": null,
            "align_items": null,
            "align_self": null,
            "border": null,
            "bottom": null,
            "display": null,
            "flex": null,
            "flex_flow": null,
            "grid_area": null,
            "grid_auto_columns": null,
            "grid_auto_flow": null,
            "grid_auto_rows": null,
            "grid_column": null,
            "grid_gap": null,
            "grid_row": null,
            "grid_template_areas": null,
            "grid_template_columns": null,
            "grid_template_rows": null,
            "height": null,
            "justify_content": null,
            "justify_items": null,
            "left": null,
            "margin": null,
            "max_height": null,
            "max_width": null,
            "min_height": null,
            "min_width": null,
            "object_fit": null,
            "object_position": null,
            "order": null,
            "overflow": null,
            "overflow_x": null,
            "overflow_y": null,
            "padding": null,
            "right": null,
            "top": null,
            "visibility": null,
            "width": null
          }
        },
        "523ca1d1c7754ffb9b27f80bd085b54b": {
          "model_module": "@jupyter-widgets/controls",
          "model_name": "DescriptionStyleModel",
          "model_module_version": "1.5.0",
          "state": {
            "_model_module": "@jupyter-widgets/controls",
            "_model_module_version": "1.5.0",
            "_model_name": "DescriptionStyleModel",
            "_view_count": null,
            "_view_module": "@jupyter-widgets/base",
            "_view_module_version": "1.2.0",
            "_view_name": "StyleView",
            "description_width": ""
          }
        }
      }
    }
  },
  "cells": [
    {
      "cell_type": "code",
      "execution_count": null,
      "metadata": {
        "colab": {
          "base_uri": "https://localhost:8080/"
        },
        "id": "1BhcchJhpgTR",
        "outputId": "c210f743-7071-4baa-b402-5f6ea39e2431"
      },
      "outputs": [
        {
          "output_type": "stream",
          "name": "stdout",
          "text": [
            "Mounted at /content/gdrive\n"
          ]
        }
      ],
      "source": [
        "from google.colab import drive\n",
        "drive.mount('/content/gdrive',force_remount=True)"
      ]
    },
    {
      "cell_type": "code",
      "source": [
        "#cd gdrive/My Drive/"
      ],
      "metadata": {
        "colab": {
          "base_uri": "https://localhost:8080/"
        },
        "id": "n1B2s0zDtelP",
        "outputId": "264e9419-317a-4fd3-c610-7402be341860"
      },
      "execution_count": null,
      "outputs": [
        {
          "output_type": "stream",
          "name": "stdout",
          "text": [
            "/content/gdrive/My Drive\n"
          ]
        }
      ]
    },
    {
      "cell_type": "code",
      "source": [
        "#!zip -r Dataset.zip colbert-trained/\n",
        "#!unzip filename.zip -d ./filename"
      ],
      "metadata": {
        "colab": {
          "base_uri": "https://localhost:8080/"
        },
        "id": "lR9ZNK5ptipn",
        "outputId": "ab762908-0bb4-4082-e7c7-9c46cc19b861"
      },
      "execution_count": null,
      "outputs": [
        {
          "output_type": "stream",
          "name": "stdout",
          "text": [
            "  adding: colbert-trained/ (stored 0%)\n",
            "  adding: colbert-trained/saved_model.pb (deflated 92%)\n",
            "  adding: colbert-trained/variables/ (stored 0%)\n",
            "  adding: colbert-trained/variables/variables.index (deflated 80%)\n",
            "  adding: colbert-trained/variables/variables.data-00000-of-00001 (deflated 14%)\n"
          ]
        }
      ]
    },
    {
      "cell_type": "code",
      "source": [
        "#Saving the image features\n",
        "'''\n",
        "np.save('trainimage_features.npy', trainImageFeatures)\n",
        "np.save('valimage_features.npy', valImageFeatures)\n",
        "np.save('testimage_features.npy', testImageFeatures)\n",
        "\n",
        "from google.colab import drive\n",
        "drive.mount('/content/gdrive',force_remount=True)\n",
        "\n",
        "trainImageFeatures = np.load('/content/gdrive/MyDrive/trainimage_features.npy') \n",
        "valImageFeatures = np.load('/content/gdrive/MyDrive/valimage_features.npy')\n",
        "testImageFeatures = np.load('/content/gdrive/MyDrive/testimage_features.npy')\n",
        "'''"
      ],
      "metadata": {
        "colab": {
          "base_uri": "https://localhost:8080/",
          "height": 88
        },
        "id": "ineRq9jEqiWW",
        "outputId": "b3a09ad2-61e2-43ab-84e4-ec415037ed89"
      },
      "execution_count": null,
      "outputs": [
        {
          "output_type": "execute_result",
          "data": {
            "text/plain": [
              "\"\\nnp.save('trainimage_features.npy', trainImageFeatures)\\nnp.save('valimage_features.npy', valImageFeatures)\\nnp.save('testimage_features.npy', testImageFeatures)\\n\\nfrom google.colab import drive\\ndrive.mount('/content/gdrive',force_remount=True)\\n\\ntrainImageFeatures = np.load('/content/gdrive/MyDrive/trainimage_features.npy') \\nvalImageFeatures = np.load('/content/gdrive/MyDrive/valimage_features.npy')\\ntestImageFeatures = np.load('/content/gdrive/MyDrive/testimage_features.npy')\\n\""
            ],
            "application/vnd.google.colaboratory.intrinsic+json": {
              "type": "string"
            }
          },
          "metadata": {},
          "execution_count": 11
        }
      ]
    },
    {
      "cell_type": "code",
      "source": [
        "import keras\n",
        "\n",
        "model = keras.models.load_model(\"/content/gdrive/MyDrive/colbert-trained/\")\n",
        "model.summary()\n"
      ],
      "metadata": {
        "colab": {
          "base_uri": "https://localhost:8080/"
        },
        "id": "qdVTazHKrcaY",
        "outputId": "fe676249-1fa4-4e5f-ceb9-59a40fcb948a"
      },
      "execution_count": null,
      "outputs": [
        {
          "output_type": "stream",
          "name": "stdout",
          "text": [
            "WARNING:tensorflow:SavedModel saved prior to TF 2.5 detected when loading Keras model. Please ensure that you are saving the model with model.save() or tf.keras.models.save_model(), *NOT* tf.saved_model.save(). To confirm, there should be a file named \"keras_metadata.pb\" in the SavedModel directory.\n",
            "Model: \"functional_3\"\n",
            "__________________________________________________________________________________________________\n",
            " Layer (type)                   Output Shape         Param #     Connected to                     \n",
            "==================================================================================================\n",
            " input_19 (InputLayer)          [(None, 20)]         0           []                               \n",
            "                                                                                                  \n",
            " input_20 (InputLayer)          [(None, 20)]         0           []                               \n",
            "                                                                                                  \n",
            " input_21 (InputLayer)          [(None, 20)]         0           []                               \n",
            "                                                                                                  \n",
            " input_22 (InputLayer)          [(None, 20)]         0           []                               \n",
            "                                                                                                  \n",
            " input_23 (InputLayer)          [(None, 20)]         0           []                               \n",
            "                                                                                                  \n",
            " input_24 (InputLayer)          [(None, 20)]         0           []                               \n",
            "                                                                                                  \n",
            " input_25 (InputLayer)          [(None, 20)]         0           []                               \n",
            "                                                                                                  \n",
            " input_26 (InputLayer)          [(None, 20)]         0           []                               \n",
            "                                                                                                  \n",
            " input_27 (InputLayer)          [(None, 20)]         0           []                               \n",
            "                                                                                                  \n",
            " input_28 (InputLayer)          [(None, 20)]         0           []                               \n",
            "                                                                                                  \n",
            " input_29 (InputLayer)          [(None, 20)]         0           []                               \n",
            "                                                                                                  \n",
            " input_30 (InputLayer)          [(None, 20)]         0           []                               \n",
            "                                                                                                  \n",
            " input_31 (InputLayer)          [(None, 20)]         0           []                               \n",
            "                                                                                                  \n",
            " input_32 (InputLayer)          [(None, 20)]         0           []                               \n",
            "                                                                                                  \n",
            " input_33 (InputLayer)          [(None, 20)]         0           []                               \n",
            "                                                                                                  \n",
            " input_34 (InputLayer)          [(None, 100)]        0           []                               \n",
            "                                                                                                  \n",
            " input_35 (InputLayer)          [(None, 100)]        0           []                               \n",
            "                                                                                                  \n",
            " input_36 (InputLayer)          [(None, 100)]        0           []                               \n",
            "                                                                                                  \n",
            " bert (Custom>TFBertMainLayer)  multiple             109482240   ['input_19[0][0]',               \n",
            "                                                                  'input_20[0][0]',               \n",
            "                                                                  'input_21[0][0]',               \n",
            "                                                                  'input_22[0][0]',               \n",
            "                                                                  'input_23[0][0]',               \n",
            "                                                                  'input_24[0][0]',               \n",
            "                                                                  'input_25[0][0]',               \n",
            "                                                                  'input_26[0][0]',               \n",
            "                                                                  'input_27[0][0]',               \n",
            "                                                                  'input_28[0][0]',               \n",
            "                                                                  'input_29[0][0]',               \n",
            "                                                                  'input_30[0][0]',               \n",
            "                                                                  'input_31[0][0]',               \n",
            "                                                                  'input_32[0][0]',               \n",
            "                                                                  'input_33[0][0]',               \n",
            "                                                                  'input_34[0][0]',               \n",
            "                                                                  'input_35[0][0]',               \n",
            "                                                                  'input_36[0][0]']               \n",
            "                                                                                                  \n",
            " global_average_pooling1d_6 (Gl  (None, 768)         0           ['bert[0][0]']                   \n",
            " obalAveragePooling1D)                                                                            \n",
            "                                                                                                  \n",
            " global_average_pooling1d_7 (Gl  (None, 768)         0           ['bert[1][0]']                   \n",
            " obalAveragePooling1D)                                                                            \n",
            "                                                                                                  \n",
            " global_average_pooling1d_8 (Gl  (None, 768)         0           ['bert[2][0]']                   \n",
            " obalAveragePooling1D)                                                                            \n",
            "                                                                                                  \n",
            " global_average_pooling1d_9 (Gl  (None, 768)         0           ['bert[3][0]']                   \n",
            " obalAveragePooling1D)                                                                            \n",
            "                                                                                                  \n",
            " global_average_pooling1d_10 (G  (None, 768)         0           ['bert[4][0]']                   \n",
            " lobalAveragePooling1D)                                                                           \n",
            "                                                                                                  \n",
            " global_average_pooling1d_11 (G  (None, 768)         0           ['bert[5][0]']                   \n",
            " lobalAveragePooling1D)                                                                           \n",
            "                                                                                                  \n",
            " dense_15 (Dense)               (None, 32)           24608       ['global_average_pooling1d_6[0][0\n",
            "                                                                 ]']                              \n",
            "                                                                                                  \n",
            " dense_17 (Dense)               (None, 32)           24608       ['global_average_pooling1d_7[0][0\n",
            "                                                                 ]']                              \n",
            "                                                                                                  \n",
            " dense_19 (Dense)               (None, 32)           24608       ['global_average_pooling1d_8[0][0\n",
            "                                                                 ]']                              \n",
            "                                                                                                  \n",
            " dense_21 (Dense)               (None, 32)           24608       ['global_average_pooling1d_9[0][0\n",
            "                                                                 ]']                              \n",
            "                                                                                                  \n",
            " dense_23 (Dense)               (None, 32)           24608       ['global_average_pooling1d_10[0][\n",
            "                                                                 0]']                             \n",
            "                                                                                                  \n",
            " dense_25 (Dense)               (None, 256)          196864      ['global_average_pooling1d_11[0][\n",
            "                                                                 0]']                             \n",
            "                                                                                                  \n",
            " dropout_44 (Dropout)           (None, 32)           0           ['dense_15[0][0]']               \n",
            "                                                                                                  \n",
            " dropout_45 (Dropout)           (None, 32)           0           ['dense_17[0][0]']               \n",
            "                                                                                                  \n",
            " dropout_46 (Dropout)           (None, 32)           0           ['dense_19[0][0]']               \n",
            "                                                                                                  \n",
            " dropout_47 (Dropout)           (None, 32)           0           ['dense_21[0][0]']               \n",
            "                                                                                                  \n",
            " dropout_48 (Dropout)           (None, 32)           0           ['dense_23[0][0]']               \n",
            "                                                                                                  \n",
            " dropout_49 (Dropout)           (None, 256)          0           ['dense_25[0][0]']               \n",
            "                                                                                                  \n",
            " dense_16 (Dense)               (None, 8)            264         ['dropout_44[0][0]']             \n",
            "                                                                                                  \n",
            " dense_18 (Dense)               (None, 8)            264         ['dropout_45[0][0]']             \n",
            "                                                                                                  \n",
            " dense_20 (Dense)               (None, 8)            264         ['dropout_46[0][0]']             \n",
            "                                                                                                  \n",
            " dense_22 (Dense)               (None, 8)            264         ['dropout_47[0][0]']             \n",
            "                                                                                                  \n",
            " dense_24 (Dense)               (None, 8)            264         ['dropout_48[0][0]']             \n",
            "                                                                                                  \n",
            " dense_26 (Dense)               (None, 64)           16448       ['dropout_49[0][0]']             \n",
            "                                                                                                  \n",
            " concatenate_1 (Concatenate)    (None, 104)          0           ['dense_16[0][0]',               \n",
            "                                                                  'dense_18[0][0]',               \n",
            "                                                                  'dense_20[0][0]',               \n",
            "                                                                  'dense_22[0][0]',               \n",
            "                                                                  'dense_24[0][0]',               \n",
            "                                                                  'dense_26[0][0]']               \n",
            "                                                                                                  \n",
            " dense_27 (Dense)               (None, 512)          53760       ['concatenate_1[0][0]']          \n",
            "                                                                                                  \n",
            " dropout_50 (Dropout)           (None, 512)          0           ['dense_27[0][0]']               \n",
            "                                                                                                  \n",
            " dense_28 (Dense)               (None, 256)          131328      ['dropout_50[0][0]']             \n",
            "                                                                                                  \n",
            " dense_29 (Dense)               (None, 1)            257         ['dense_28[0][0]']               \n",
            "                                                                                                  \n",
            "==================================================================================================\n",
            "Total params: 110,005,257\n",
            "Trainable params: 110,005,257\n",
            "Non-trainable params: 0\n",
            "__________________________________________________________________________________________________\n"
          ]
        }
      ]
    },
    {
      "cell_type": "code",
      "source": [
        "!pip install transformers"
      ],
      "metadata": {
        "colab": {
          "base_uri": "https://localhost:8080/"
        },
        "id": "FnvP_FfHsAwr",
        "outputId": "75e83f92-87f4-468c-e2cc-ba8547c23605"
      },
      "execution_count": null,
      "outputs": [
        {
          "output_type": "stream",
          "name": "stdout",
          "text": [
            "Requirement already satisfied: transformers in /usr/local/lib/python3.7/dist-packages (4.18.0)\n",
            "Requirement already satisfied: tqdm>=4.27 in /usr/local/lib/python3.7/dist-packages (from transformers) (4.64.0)\n",
            "Requirement already satisfied: pyyaml>=5.1 in /usr/local/lib/python3.7/dist-packages (from transformers) (6.0)\n",
            "Requirement already satisfied: importlib-metadata in /usr/local/lib/python3.7/dist-packages (from transformers) (4.11.3)\n",
            "Requirement already satisfied: huggingface-hub<1.0,>=0.1.0 in /usr/local/lib/python3.7/dist-packages (from transformers) (0.5.1)\n",
            "Requirement already satisfied: packaging>=20.0 in /usr/local/lib/python3.7/dist-packages (from transformers) (21.3)\n",
            "Requirement already satisfied: tokenizers!=0.11.3,<0.13,>=0.11.1 in /usr/local/lib/python3.7/dist-packages (from transformers) (0.12.1)\n",
            "Requirement already satisfied: numpy>=1.17 in /usr/local/lib/python3.7/dist-packages (from transformers) (1.21.6)\n",
            "Requirement already satisfied: sacremoses in /usr/local/lib/python3.7/dist-packages (from transformers) (0.0.49)\n",
            "Requirement already satisfied: regex!=2019.12.17 in /usr/local/lib/python3.7/dist-packages (from transformers) (2019.12.20)\n",
            "Requirement already satisfied: filelock in /usr/local/lib/python3.7/dist-packages (from transformers) (3.6.0)\n",
            "Requirement already satisfied: requests in /usr/local/lib/python3.7/dist-packages (from transformers) (2.23.0)\n",
            "Requirement already satisfied: typing-extensions>=3.7.4.3 in /usr/local/lib/python3.7/dist-packages (from huggingface-hub<1.0,>=0.1.0->transformers) (4.1.1)\n",
            "Requirement already satisfied: pyparsing!=3.0.5,>=2.0.2 in /usr/local/lib/python3.7/dist-packages (from packaging>=20.0->transformers) (3.0.8)\n",
            "Requirement already satisfied: zipp>=0.5 in /usr/local/lib/python3.7/dist-packages (from importlib-metadata->transformers) (3.8.0)\n",
            "Requirement already satisfied: certifi>=2017.4.17 in /usr/local/lib/python3.7/dist-packages (from requests->transformers) (2021.10.8)\n",
            "Requirement already satisfied: chardet<4,>=3.0.2 in /usr/local/lib/python3.7/dist-packages (from requests->transformers) (3.0.4)\n",
            "Requirement already satisfied: urllib3!=1.25.0,!=1.25.1,<1.26,>=1.21.1 in /usr/local/lib/python3.7/dist-packages (from requests->transformers) (1.24.3)\n",
            "Requirement already satisfied: idna<3,>=2.5 in /usr/local/lib/python3.7/dist-packages (from requests->transformers) (2.10)\n",
            "Requirement already satisfied: six in /usr/local/lib/python3.7/dist-packages (from sacremoses->transformers) (1.15.0)\n",
            "Requirement already satisfied: click in /usr/local/lib/python3.7/dist-packages (from sacremoses->transformers) (7.1.2)\n",
            "Requirement already satisfied: joblib in /usr/local/lib/python3.7/dist-packages (from sacremoses->transformers) (1.1.0)\n"
          ]
        }
      ]
    },
    {
      "cell_type": "code",
      "source": [
        "!pip install sentencepiece"
      ],
      "metadata": {
        "colab": {
          "base_uri": "https://localhost:8080/"
        },
        "id": "7qC5YbwktSMT",
        "outputId": "1a4c388d-0ee7-4546-a8a5-a6038de9b12f"
      },
      "execution_count": null,
      "outputs": [
        {
          "output_type": "stream",
          "name": "stdout",
          "text": [
            "Requirement already satisfied: sentencepiece in /usr/local/lib/python3.7/dist-packages (0.1.96)\n"
          ]
        }
      ]
    },
    {
      "cell_type": "code",
      "source": [
        "import pandas as pd\n",
        "import numpy as np\n",
        "import sklearn\n",
        "from sklearn.model_selection import GroupKFold\n",
        "import matplotlib.pyplot as plt\n",
        "from tqdm.notebook import tqdm\n",
        "\n",
        "# import tensorflow_hub as hub\n",
        "import tensorflow as tf\n",
        "# import bert_tokenization as tokenization\n",
        "import tensorflow.keras.backend as K\n",
        "from tensorflow import keras \n",
        "\n",
        "import os\n",
        "from scipy.stats import spearmanr\n",
        "from math import floor, ceil\n",
        "#from transformers import *\n",
        "\n",
        "import seaborn as sns\n",
        "import string\n",
        "import re    #for regex\n",
        "\n",
        "np.set_printoptions(suppress=True)\n",
        "print(tf.__version__)"
      ],
      "metadata": {
        "colab": {
          "base_uri": "https://localhost:8080/"
        },
        "id": "vzDrg7dCr8cM",
        "outputId": "b809b717-c709-4366-9469-8b8ed502e2e7"
      },
      "execution_count": null,
      "outputs": [
        {
          "output_type": "stream",
          "name": "stdout",
          "text": [
            "2.8.0\n"
          ]
        }
      ]
    },
    {
      "cell_type": "code",
      "source": [
        "training_sample_count = 1000 # 4000\n",
        "test_count = 1000\n",
        "\n",
        "MAX_SENTENCE_LENGTH = 20\n",
        "MAX_SENTENCES = 5\n",
        "MAX_LENGTH = 100"
      ],
      "metadata": {
        "id": "qw59pGE23KLZ"
      },
      "execution_count": null,
      "outputs": []
    },
    {
      "cell_type": "code",
      "source": [
        "df = pd.read_csv('cyberbullying_tweets.csv')"
      ],
      "metadata": {
        "id": "lLlxGr6u3O96"
      },
      "execution_count": null,
      "outputs": []
    },
    {
      "cell_type": "code",
      "source": [
        "from sklearn.model_selection import train_test_split\n",
        "df_train,df_test = train_test_split(df, test_size = 0.20, shuffle = True)"
      ],
      "metadata": {
        "id": "VE7qK0Y63xrX"
      },
      "execution_count": null,
      "outputs": []
    },
    {
      "cell_type": "code",
      "source": [
        "df_train.head(5)"
      ],
      "metadata": {
        "colab": {
          "base_uri": "https://localhost:8080/",
          "height": 206
        },
        "id": "qcc-uL4l4AA9",
        "outputId": "23538125-9306-4d4c-e548-cbbcf2141127"
      },
      "execution_count": null,
      "outputs": [
        {
          "output_type": "execute_result",
          "data": {
            "text/plain": [
              "                                              tweet_text  label\n",
              "38119  I’m WEAK!!! Not even close, but go off sis you...      4\n",
              "35602  Me in high school getting bullied by all the m...      4\n",
              "9579   RT @Shimmyfab: @Icarusflyer @JustLaurenB @wesl...      1\n",
              "29669  Let's not forget that wadhwa is the same perso...      3\n",
              "18865  Idiot! He was not in power at that time. BJP w...      2"
            ],
            "text/html": [
              "\n",
              "  <div id=\"df-c06adc31-e555-4b86-b523-aff64e0ddc51\">\n",
              "    <div class=\"colab-df-container\">\n",
              "      <div>\n",
              "<style scoped>\n",
              "    .dataframe tbody tr th:only-of-type {\n",
              "        vertical-align: middle;\n",
              "    }\n",
              "\n",
              "    .dataframe tbody tr th {\n",
              "        vertical-align: top;\n",
              "    }\n",
              "\n",
              "    .dataframe thead th {\n",
              "        text-align: right;\n",
              "    }\n",
              "</style>\n",
              "<table border=\"1\" class=\"dataframe\">\n",
              "  <thead>\n",
              "    <tr style=\"text-align: right;\">\n",
              "      <th></th>\n",
              "      <th>tweet_text</th>\n",
              "      <th>label</th>\n",
              "    </tr>\n",
              "  </thead>\n",
              "  <tbody>\n",
              "    <tr>\n",
              "      <th>38119</th>\n",
              "      <td>I’m WEAK!!! Not even close, but go off sis you...</td>\n",
              "      <td>4</td>\n",
              "    </tr>\n",
              "    <tr>\n",
              "      <th>35602</th>\n",
              "      <td>Me in high school getting bullied by all the m...</td>\n",
              "      <td>4</td>\n",
              "    </tr>\n",
              "    <tr>\n",
              "      <th>9579</th>\n",
              "      <td>RT @Shimmyfab: @Icarusflyer @JustLaurenB @wesl...</td>\n",
              "      <td>1</td>\n",
              "    </tr>\n",
              "    <tr>\n",
              "      <th>29669</th>\n",
              "      <td>Let's not forget that wadhwa is the same perso...</td>\n",
              "      <td>3</td>\n",
              "    </tr>\n",
              "    <tr>\n",
              "      <th>18865</th>\n",
              "      <td>Idiot! He was not in power at that time. BJP w...</td>\n",
              "      <td>2</td>\n",
              "    </tr>\n",
              "  </tbody>\n",
              "</table>\n",
              "</div>\n",
              "      <button class=\"colab-df-convert\" onclick=\"convertToInteractive('df-c06adc31-e555-4b86-b523-aff64e0ddc51')\"\n",
              "              title=\"Convert this dataframe to an interactive table.\"\n",
              "              style=\"display:none;\">\n",
              "        \n",
              "  <svg xmlns=\"http://www.w3.org/2000/svg\" height=\"24px\"viewBox=\"0 0 24 24\"\n",
              "       width=\"24px\">\n",
              "    <path d=\"M0 0h24v24H0V0z\" fill=\"none\"/>\n",
              "    <path d=\"M18.56 5.44l.94 2.06.94-2.06 2.06-.94-2.06-.94-.94-2.06-.94 2.06-2.06.94zm-11 1L8.5 8.5l.94-2.06 2.06-.94-2.06-.94L8.5 2.5l-.94 2.06-2.06.94zm10 10l.94 2.06.94-2.06 2.06-.94-2.06-.94-.94-2.06-.94 2.06-2.06.94z\"/><path d=\"M17.41 7.96l-1.37-1.37c-.4-.4-.92-.59-1.43-.59-.52 0-1.04.2-1.43.59L10.3 9.45l-7.72 7.72c-.78.78-.78 2.05 0 2.83L4 21.41c.39.39.9.59 1.41.59.51 0 1.02-.2 1.41-.59l7.78-7.78 2.81-2.81c.8-.78.8-2.07 0-2.86zM5.41 20L4 18.59l7.72-7.72 1.47 1.35L5.41 20z\"/>\n",
              "  </svg>\n",
              "      </button>\n",
              "      \n",
              "  <style>\n",
              "    .colab-df-container {\n",
              "      display:flex;\n",
              "      flex-wrap:wrap;\n",
              "      gap: 12px;\n",
              "    }\n",
              "\n",
              "    .colab-df-convert {\n",
              "      background-color: #E8F0FE;\n",
              "      border: none;\n",
              "      border-radius: 50%;\n",
              "      cursor: pointer;\n",
              "      display: none;\n",
              "      fill: #1967D2;\n",
              "      height: 32px;\n",
              "      padding: 0 0 0 0;\n",
              "      width: 32px;\n",
              "    }\n",
              "\n",
              "    .colab-df-convert:hover {\n",
              "      background-color: #E2EBFA;\n",
              "      box-shadow: 0px 1px 2px rgba(60, 64, 67, 0.3), 0px 1px 3px 1px rgba(60, 64, 67, 0.15);\n",
              "      fill: #174EA6;\n",
              "    }\n",
              "\n",
              "    [theme=dark] .colab-df-convert {\n",
              "      background-color: #3B4455;\n",
              "      fill: #D2E3FC;\n",
              "    }\n",
              "\n",
              "    [theme=dark] .colab-df-convert:hover {\n",
              "      background-color: #434B5C;\n",
              "      box-shadow: 0px 1px 3px 1px rgba(0, 0, 0, 0.15);\n",
              "      filter: drop-shadow(0px 1px 2px rgba(0, 0, 0, 0.3));\n",
              "      fill: #FFFFFF;\n",
              "    }\n",
              "  </style>\n",
              "\n",
              "      <script>\n",
              "        const buttonEl =\n",
              "          document.querySelector('#df-c06adc31-e555-4b86-b523-aff64e0ddc51 button.colab-df-convert');\n",
              "        buttonEl.style.display =\n",
              "          google.colab.kernel.accessAllowed ? 'block' : 'none';\n",
              "\n",
              "        async function convertToInteractive(key) {\n",
              "          const element = document.querySelector('#df-c06adc31-e555-4b86-b523-aff64e0ddc51');\n",
              "          const dataTable =\n",
              "            await google.colab.kernel.invokeFunction('convertToInteractive',\n",
              "                                                     [key], {});\n",
              "          if (!dataTable) return;\n",
              "\n",
              "          const docLinkHtml = 'Like what you see? Visit the ' +\n",
              "            '<a target=\"_blank\" href=https://colab.research.google.com/notebooks/data_table.ipynb>data table notebook</a>'\n",
              "            + ' to learn more about interactive tables.';\n",
              "          element.innerHTML = '';\n",
              "          dataTable['output_type'] = 'display_data';\n",
              "          await google.colab.output.renderOutput(dataTable, element);\n",
              "          const docLink = document.createElement('div');\n",
              "          docLink.innerHTML = docLinkHtml;\n",
              "          element.appendChild(docLink);\n",
              "        }\n",
              "      </script>\n",
              "    </div>\n",
              "  </div>\n",
              "  "
            ]
          },
          "metadata": {},
          "execution_count": 18
        }
      ]
    },
    {
      "cell_type": "code",
      "source": [
        "def smush_labels(label):\n",
        "    if label == 'not_cyberbullying':\n",
        "        return 0\n",
        "    elif label == 'gender':\n",
        "        return 1\n",
        "    elif label == 'religion':\n",
        "        return 2\n",
        "    elif label == 'other_cyberbullying':\n",
        "        return 3\n",
        "    elif label == 'age':\n",
        "        return 4\n",
        "    else: #ethnicity\n",
        "        return 5\n",
        "\n",
        "df_train['label'] = df_train['cyberbullying_type'].apply(smush_labels)\n",
        "df_test['label'] = df_test['cyberbullying_type'].apply(smush_labels)"
      ],
      "metadata": {
        "id": "jIz8wOxp4Neg"
      },
      "execution_count": null,
      "outputs": []
    },
    {
      "cell_type": "code",
      "source": [
        "del df_test['cyberbullying_type']\n",
        "del df_train['cyberbullying_type']"
      ],
      "metadata": {
        "id": "-U-jlglC4bTN"
      },
      "execution_count": null,
      "outputs": []
    },
    {
      "cell_type": "code",
      "source": [
        "!pip install emoji"
      ],
      "metadata": {
        "colab": {
          "base_uri": "https://localhost:8080/"
        },
        "id": "Zf-EC7we35Hk",
        "outputId": "114edeea-5aac-41c9-eae0-5c7c0eb8a8e4"
      },
      "execution_count": null,
      "outputs": [
        {
          "output_type": "stream",
          "name": "stdout",
          "text": [
            "Collecting emoji\n",
            "  Downloading emoji-1.7.0.tar.gz (175 kB)\n",
            "\u001b[?25l\r\u001b[K     |█▉                              | 10 kB 26.9 MB/s eta 0:00:01\r\u001b[K     |███▊                            | 20 kB 29.4 MB/s eta 0:00:01\r\u001b[K     |█████▋                          | 30 kB 21.9 MB/s eta 0:00:01\r\u001b[K     |███████▌                        | 40 kB 12.6 MB/s eta 0:00:01\r\u001b[K     |█████████▍                      | 51 kB 10.7 MB/s eta 0:00:01\r\u001b[K     |███████████▏                    | 61 kB 12.4 MB/s eta 0:00:01\r\u001b[K     |█████████████                   | 71 kB 13.7 MB/s eta 0:00:01\r\u001b[K     |███████████████                 | 81 kB 13.5 MB/s eta 0:00:01\r\u001b[K     |████████████████▉               | 92 kB 14.8 MB/s eta 0:00:01\r\u001b[K     |██████████████████▊             | 102 kB 15.4 MB/s eta 0:00:01\r\u001b[K     |████████████████████▌           | 112 kB 15.4 MB/s eta 0:00:01\r\u001b[K     |██████████████████████▍         | 122 kB 15.4 MB/s eta 0:00:01\r\u001b[K     |████████████████████████▎       | 133 kB 15.4 MB/s eta 0:00:01\r\u001b[K     |██████████████████████████▏     | 143 kB 15.4 MB/s eta 0:00:01\r\u001b[K     |████████████████████████████    | 153 kB 15.4 MB/s eta 0:00:01\r\u001b[K     |█████████████████████████████▉  | 163 kB 15.4 MB/s eta 0:00:01\r\u001b[K     |███████████████████████████████▊| 174 kB 15.4 MB/s eta 0:00:01\r\u001b[K     |████████████████████████████████| 175 kB 15.4 MB/s \n",
            "\u001b[?25hBuilding wheels for collected packages: emoji\n",
            "  Building wheel for emoji (setup.py) ... \u001b[?25l\u001b[?25hdone\n",
            "  Created wheel for emoji: filename=emoji-1.7.0-py3-none-any.whl size=171046 sha256=ccd9eac2f02e87fdea5a08ac34340d2ae2cc2d22b7ac339b607244a7783f2020\n",
            "  Stored in directory: /root/.cache/pip/wheels/8a/4e/b6/57b01db010d17ef6ea9b40300af725ef3e210cb1acfb7ac8b6\n",
            "Successfully built emoji\n",
            "Installing collected packages: emoji\n",
            "Successfully installed emoji-1.7.0\n"
          ]
        }
      ]
    },
    {
      "cell_type": "code",
      "source": [
        "import nltk\n",
        "nltk.download('stopwords')"
      ],
      "metadata": {
        "colab": {
          "base_uri": "https://localhost:8080/"
        },
        "id": "ygSK8dhu4C_D",
        "outputId": "9538657c-5585-4645-eba7-486b31549273"
      },
      "execution_count": null,
      "outputs": [
        {
          "output_type": "stream",
          "name": "stdout",
          "text": [
            "[nltk_data] Downloading package stopwords to /root/nltk_data...\n",
            "[nltk_data]   Unzipping corpora/stopwords.zip.\n"
          ]
        },
        {
          "output_type": "execute_result",
          "data": {
            "text/plain": [
              "True"
            ]
          },
          "metadata": {},
          "execution_count": 16
        }
      ]
    },
    {
      "cell_type": "code",
      "source": [
        "#Text cleaning\n",
        "import re, string\n",
        "import emoji\n",
        "from nltk.stem import WordNetLemmatizer,PorterStemmer\n",
        "from nltk.corpus import stopwords\n",
        "stop_words = set(stopwords.words('english'))\n",
        "\n",
        "import nltk\n",
        "from nltk.stem import WordNetLemmatizer,PorterStemmer\n",
        "#Clean emojis from text\n",
        "def strip_emoji(text):\n",
        "    return re.sub(emoji.get_emoji_regexp(), r\"\", text) #remove emoji\n",
        "\n",
        "#Remove punctuations, links, stopwords, mentions and \\r\\n new line characters\n",
        "def strip_all_entities(text): \n",
        "    text = text.replace('\\r', '').replace('\\n', ' ').lower() #remove \\n and \\r and lowercase\n",
        "    text = re.sub(r\"(?:\\@|https?\\://)\\S+\", \"\", text) #remove links and mentions\n",
        "    text = re.sub(r'[^\\x00-\\x7f]',r'', text) #remove non utf8/ascii characters such as '\\x9a\\x91\\x97\\x9a\\x97'\n",
        "    #banned_list= string.punctuation\n",
        "    #table = str.maketrans('', '', banned_list)\n",
        "    #text = text.translate(table)\n",
        "    text = [word for word in text.split() if word not in stop_words]\n",
        "    text = ' '.join(text)\n",
        "    text =' '.join(word for word in text.split() if len(word) < 14) # remove words longer than 14 characters\n",
        "    return text\n",
        "\n",
        "#remove contractions\n",
        "def decontract(text):\n",
        "    text = re.sub(r\"can\\'t\", \"can not\", text)\n",
        "    text = re.sub(r\"n\\'t\", \" not\", text)\n",
        "    text = re.sub(r\"\\'re\", \" are\", text)\n",
        "    text = re.sub(r\"\\'s\", \" is\", text)\n",
        "    text = re.sub(r\"\\'d\", \" would\", text)\n",
        "    text = re.sub(r\"\\'ll\", \" will\", text)\n",
        "    text = re.sub(r\"\\'t\", \" not\", text)\n",
        "    text = re.sub(r\"\\'ve\", \" have\", text)\n",
        "    text = re.sub(r\"\\'m\", \" am\", text)\n",
        "    return text\n",
        "\n",
        "#clean hashtags at the end of the sentence, and keep those in the middle of the sentence by removing just the \"#\" symbol\n",
        "def clean_hashtags(tweet):\n",
        "    new_tweet = \" \".join(word.strip() for word in re.split('#(?!(?:hashtag)\\b)[\\w-]+(?=(?:\\s+#[\\w-]+)*\\s*$)', tweet)) #remove last hashtags\n",
        "    new_tweet2 = \" \".join(word.strip() for word in re.split('#|_', new_tweet)) #remove hashtags symbol from words in the middle of the sentence\n",
        "    return new_tweet2\n",
        "\n",
        "#Filter special characters such as \"&\" and \"$\" present in some words\n",
        "def filter_chars(a):\n",
        "    sent = []\n",
        "    for word in a.split(' '):\n",
        "        if ('$' in word) | ('&' in word):\n",
        "            sent.append('')\n",
        "        else:\n",
        "            sent.append(word)\n",
        "    return ' '.join(sent)\n",
        "\n",
        "#Remove multiple sequential spaces\n",
        "def remove_mult_spaces(text):\n",
        "    return re.sub(\"\\s\\s+\" , \" \", text)\n",
        "\n",
        "#Stemming\n",
        "def stemmer(text):\n",
        "    tokenized = nltk.word_tokenize(text)\n",
        "    ps = PorterStemmer()\n",
        "    return ' '.join([ps.stem(words) for words in tokenized])\n",
        "\n",
        "#Lemmatization \n",
        "#NOTE:Stemming seems to work better for this dataset\n",
        "def lemmatize(text):\n",
        "    tokenized = nltk.word_tokenize(text)\n",
        "    lm = WordNetLemmatizer()\n",
        "    return ' '.join([lm.lemmatize(words) for words in tokenized])\n",
        "\n",
        "#Then we apply all the defined functions in the following order\n",
        "def deep_clean(text):\n",
        "    text = strip_emoji(text)\n",
        "    text = decontract(text)\n",
        "    text = strip_all_entities(text)\n",
        "    text = clean_hashtags(text)\n",
        "    text = filter_chars(text)\n",
        "    text = remove_mult_spaces(text)\n",
        "    text = stemmer(text)#check this\n",
        "    return text"
      ],
      "metadata": {
        "id": "wRWoTFGN458g"
      },
      "execution_count": null,
      "outputs": []
    },
    {
      "cell_type": "code",
      "source": [
        "df_train['tweet_text'] = df_train['tweet_text'].apply(deep_clean)\n",
        "df_test['tweet_text'] = df_test['tweet_text'].apply(deep_clean)"
      ],
      "metadata": {
        "colab": {
          "base_uri": "https://localhost:8080/"
        },
        "id": "TwyviDvK4I1T",
        "outputId": "0b9b2c36-25be-46d3-e12a-09651c74bd5f"
      },
      "execution_count": null,
      "outputs": [
        {
          "output_type": "stream",
          "name": "stderr",
          "text": [
            "/usr/local/lib/python3.7/dist-packages/ipykernel_launcher.py:12: DeprecationWarning: 'emoji.get_emoji_regexp()' is deprecated and will be removed in version 2.0.0. If you want to remove emoji from a string, consider the method emoji.replace_emoji(str, replace='').\n",
            "To hide this warning, pin/downgrade the package to 'emoji~=1.6.3'\n",
            "  if sys.path[0] == '':\n"
          ]
        }
      ]
    },
    {
      "cell_type": "code",
      "source": [
        "df_train.head(5)"
      ],
      "metadata": {
        "colab": {
          "base_uri": "https://localhost:8080/",
          "height": 206
        },
        "id": "YZAVkqxT4dwT",
        "outputId": "66718fa4-ce12-4bd3-cb24-6d6000b1c73c"
      },
      "execution_count": null,
      "outputs": [
        {
          "output_type": "execute_result",
          "data": {
            "text/plain": [
              "                                              tweet_text  label\n",
              "38119  im weak even close go si bulli boyfriend that ...      4\n",
              "35602  high school get bulli mean girl shi introvert ...      4\n",
              "9579                rt wont drive 2 stop rape class http      1\n",
              "29669  let forget wadhwa person believ pseudosci need...      3\n",
              "18865  idiot power time bjp power vp singh modi power...      2"
            ],
            "text/html": [
              "\n",
              "  <div id=\"df-870930a5-8962-4665-b774-88f6a5960548\">\n",
              "    <div class=\"colab-df-container\">\n",
              "      <div>\n",
              "<style scoped>\n",
              "    .dataframe tbody tr th:only-of-type {\n",
              "        vertical-align: middle;\n",
              "    }\n",
              "\n",
              "    .dataframe tbody tr th {\n",
              "        vertical-align: top;\n",
              "    }\n",
              "\n",
              "    .dataframe thead th {\n",
              "        text-align: right;\n",
              "    }\n",
              "</style>\n",
              "<table border=\"1\" class=\"dataframe\">\n",
              "  <thead>\n",
              "    <tr style=\"text-align: right;\">\n",
              "      <th></th>\n",
              "      <th>tweet_text</th>\n",
              "      <th>label</th>\n",
              "    </tr>\n",
              "  </thead>\n",
              "  <tbody>\n",
              "    <tr>\n",
              "      <th>38119</th>\n",
              "      <td>im weak even close go si bulli boyfriend that ...</td>\n",
              "      <td>4</td>\n",
              "    </tr>\n",
              "    <tr>\n",
              "      <th>35602</th>\n",
              "      <td>high school get bulli mean girl shi introvert ...</td>\n",
              "      <td>4</td>\n",
              "    </tr>\n",
              "    <tr>\n",
              "      <th>9579</th>\n",
              "      <td>rt wont drive 2 stop rape class http</td>\n",
              "      <td>1</td>\n",
              "    </tr>\n",
              "    <tr>\n",
              "      <th>29669</th>\n",
              "      <td>let forget wadhwa person believ pseudosci need...</td>\n",
              "      <td>3</td>\n",
              "    </tr>\n",
              "    <tr>\n",
              "      <th>18865</th>\n",
              "      <td>idiot power time bjp power vp singh modi power...</td>\n",
              "      <td>2</td>\n",
              "    </tr>\n",
              "  </tbody>\n",
              "</table>\n",
              "</div>\n",
              "      <button class=\"colab-df-convert\" onclick=\"convertToInteractive('df-870930a5-8962-4665-b774-88f6a5960548')\"\n",
              "              title=\"Convert this dataframe to an interactive table.\"\n",
              "              style=\"display:none;\">\n",
              "        \n",
              "  <svg xmlns=\"http://www.w3.org/2000/svg\" height=\"24px\"viewBox=\"0 0 24 24\"\n",
              "       width=\"24px\">\n",
              "    <path d=\"M0 0h24v24H0V0z\" fill=\"none\"/>\n",
              "    <path d=\"M18.56 5.44l.94 2.06.94-2.06 2.06-.94-2.06-.94-.94-2.06-.94 2.06-2.06.94zm-11 1L8.5 8.5l.94-2.06 2.06-.94-2.06-.94L8.5 2.5l-.94 2.06-2.06.94zm10 10l.94 2.06.94-2.06 2.06-.94-2.06-.94-.94-2.06-.94 2.06-2.06.94z\"/><path d=\"M17.41 7.96l-1.37-1.37c-.4-.4-.92-.59-1.43-.59-.52 0-1.04.2-1.43.59L10.3 9.45l-7.72 7.72c-.78.78-.78 2.05 0 2.83L4 21.41c.39.39.9.59 1.41.59.51 0 1.02-.2 1.41-.59l7.78-7.78 2.81-2.81c.8-.78.8-2.07 0-2.86zM5.41 20L4 18.59l7.72-7.72 1.47 1.35L5.41 20z\"/>\n",
              "  </svg>\n",
              "      </button>\n",
              "      \n",
              "  <style>\n",
              "    .colab-df-container {\n",
              "      display:flex;\n",
              "      flex-wrap:wrap;\n",
              "      gap: 12px;\n",
              "    }\n",
              "\n",
              "    .colab-df-convert {\n",
              "      background-color: #E8F0FE;\n",
              "      border: none;\n",
              "      border-radius: 50%;\n",
              "      cursor: pointer;\n",
              "      display: none;\n",
              "      fill: #1967D2;\n",
              "      height: 32px;\n",
              "      padding: 0 0 0 0;\n",
              "      width: 32px;\n",
              "    }\n",
              "\n",
              "    .colab-df-convert:hover {\n",
              "      background-color: #E2EBFA;\n",
              "      box-shadow: 0px 1px 2px rgba(60, 64, 67, 0.3), 0px 1px 3px 1px rgba(60, 64, 67, 0.15);\n",
              "      fill: #174EA6;\n",
              "    }\n",
              "\n",
              "    [theme=dark] .colab-df-convert {\n",
              "      background-color: #3B4455;\n",
              "      fill: #D2E3FC;\n",
              "    }\n",
              "\n",
              "    [theme=dark] .colab-df-convert:hover {\n",
              "      background-color: #434B5C;\n",
              "      box-shadow: 0px 1px 3px 1px rgba(0, 0, 0, 0.15);\n",
              "      filter: drop-shadow(0px 1px 2px rgba(0, 0, 0, 0.3));\n",
              "      fill: #FFFFFF;\n",
              "    }\n",
              "  </style>\n",
              "\n",
              "      <script>\n",
              "        const buttonEl =\n",
              "          document.querySelector('#df-870930a5-8962-4665-b774-88f6a5960548 button.colab-df-convert');\n",
              "        buttonEl.style.display =\n",
              "          google.colab.kernel.accessAllowed ? 'block' : 'none';\n",
              "\n",
              "        async function convertToInteractive(key) {\n",
              "          const element = document.querySelector('#df-870930a5-8962-4665-b774-88f6a5960548');\n",
              "          const dataTable =\n",
              "            await google.colab.kernel.invokeFunction('convertToInteractive',\n",
              "                                                     [key], {});\n",
              "          if (!dataTable) return;\n",
              "\n",
              "          const docLinkHtml = 'Like what you see? Visit the ' +\n",
              "            '<a target=\"_blank\" href=https://colab.research.google.com/notebooks/data_table.ipynb>data table notebook</a>'\n",
              "            + ' to learn more about interactive tables.';\n",
              "          element.innerHTML = '';\n",
              "          dataTable['output_type'] = 'display_data';\n",
              "          await google.colab.output.renderOutput(dataTable, element);\n",
              "          const docLink = document.createElement('div');\n",
              "          docLink.innerHTML = docLinkHtml;\n",
              "          element.appendChild(docLink);\n",
              "        }\n",
              "      </script>\n",
              "    </div>\n",
              "  </div>\n",
              "  "
            ]
          },
          "metadata": {},
          "execution_count": 20
        }
      ]
    },
    {
      "cell_type": "code",
      "source": [
        "output_categories = list(df_train.columns[[1]])\n",
        "input_categories = list(df_train.columns[[0]])\n",
        "\n",
        "TARGET_COUNT = len(output_categories)\n",
        "\n",
        "print('\\ninput categories:\\n\\t', input_categories)\n",
        "print('\\noutput TARGET_COUNT:\\n\\t', TARGET_COUNT)\n",
        "print('\\noutput categories:\\n\\t', output_categories)"
      ],
      "metadata": {
        "colab": {
          "base_uri": "https://localhost:8080/"
        },
        "id": "3x2chH0q5Phf",
        "outputId": "be8790a8-5da5-452b-c05c-1a440168a467"
      },
      "execution_count": null,
      "outputs": [
        {
          "output_type": "stream",
          "name": "stdout",
          "text": [
            "\n",
            "input categories:\n",
            "\t ['tweet_text']\n",
            "\n",
            "output TARGET_COUNT:\n",
            "\t 1\n",
            "\n",
            "output categories:\n",
            "\t ['label']\n"
          ]
        }
      ]
    },
    {
      "cell_type": "code",
      "source": [
        "from transformers import BertTokenizer\n",
        "\n",
        "MODEL_TYPE = 'bert-base-uncased'\n",
        "tokenizer = BertTokenizer.from_pretrained(MODEL_TYPE)\n",
        "\n",
        "import nltk\n",
        "nltk.download('punkt')\n",
        "from nltk.tokenize import sent_tokenize"
      ],
      "metadata": {
        "colab": {
          "base_uri": "https://localhost:8080/"
        },
        "id": "A2X-86p15RCP",
        "outputId": "da5ea059-bce3-430d-97d2-23d141f6f37a"
      },
      "execution_count": null,
      "outputs": [
        {
          "output_type": "stream",
          "name": "stdout",
          "text": [
            "[nltk_data] Downloading package punkt to /root/nltk_data...\n",
            "[nltk_data]   Package punkt is already up-to-date!\n"
          ]
        }
      ]
    },
    {
      "cell_type": "code",
      "source": [
        "def return_id(str1, str2, truncation_strategy, length):\n",
        "\n",
        "    inputs = tokenizer.encode_plus(str1, str2,\n",
        "        add_special_tokens=True,\n",
        "        max_length=length,\n",
        "        truncation_strategy=truncation_strategy)\n",
        "\n",
        "    input_ids =  inputs[\"input_ids\"]\n",
        "    input_masks = [1] * len(input_ids)\n",
        "    input_segments = inputs[\"token_type_ids\"]\n",
        "    padding_length = length - len(input_ids)\n",
        "    padding_id = tokenizer.pad_token_id\n",
        "    input_ids = input_ids + ([padding_id] * padding_length)\n",
        "    input_masks = input_masks + ([0] * padding_length)\n",
        "    input_segments = input_segments + ([0] * padding_length)\n",
        "\n",
        "    return [input_ids, input_masks, input_segments]\n",
        "\n",
        "\n",
        "def compute_input_arrays(df, columns, tokenizer):\n",
        "    model_input = []\n",
        "    for xx in range((MAX_SENTENCES*3)+3):\n",
        "        model_input.append([])\n",
        "    \n",
        "    for _, row in tqdm(df[columns].iterrows()):\n",
        "        i = 0\n",
        "        \n",
        "        # sent\n",
        "        sentences = sent_tokenize(row.tweet_text)\n",
        "        for xx in range(MAX_SENTENCES):\n",
        "            s = sentences[xx] if xx<len(sentences) else ''\n",
        "            ids_q, masks_q, segments_q = return_id(s, None, 'longest_first', MAX_SENTENCE_LENGTH)\n",
        "            model_input[i].append(ids_q)\n",
        "            i+=1\n",
        "            model_input[i].append(masks_q)\n",
        "            i+=1\n",
        "            model_input[i].append(segments_q)\n",
        "            i+=1\n",
        "        \n",
        "        # full row\n",
        "        ids_q, masks_q, segments_q = return_id(row.tweet_text, None, 'longest_first', MAX_LENGTH)\n",
        "        model_input[i].append(ids_q)\n",
        "        i+=1\n",
        "        model_input[i].append(masks_q)\n",
        "        i+=1\n",
        "        model_input[i].append(segments_q)\n",
        "        \n",
        "    for xx in range((MAX_SENTENCES*3)+3):\n",
        "        model_input[xx] = np.asarray(model_input[xx], dtype=np.int32)\n",
        "        \n",
        "    print(model_input[0].shape)\n",
        "    return model_input"
      ],
      "metadata": {
        "id": "BvtuzTBe5lRz"
      },
      "execution_count": null,
      "outputs": []
    },
    {
      "cell_type": "code",
      "source": [
        "inputs      = compute_input_arrays(df_train, input_categories, tokenizer)\n",
        "test_inputs = compute_input_arrays(df_test, input_categories, tokenizer)"
      ],
      "metadata": {
        "colab": {
          "base_uri": "https://localhost:8080/",
          "height": 153,
          "referenced_widgets": [
            "6fd2d523ec894347be78c3b5983c0d28",
            "4ca89429dcb5427395a54d6e9d99d50c",
            "61c1da669f0d4aeb899316434f4ebf9b",
            "173f3a72c6164246987ea1b8fb855bd9",
            "a4a3f68ba97947ca81f02570ee914997",
            "fd76db49903246a68789da9e2122dc0e",
            "9622d81925534963a3cc3b9e71f0b101",
            "03c39459f5104a50a7b88abf9c3ef7cc",
            "9288c1e1dbe74bf8b44ccef3127cdcf4",
            "6e88510c50ff4ecd87e59a84cdb90a32",
            "c2c8a4052d5e40c0b19d9b6130279069",
            "268d548f682b40f18a4a63b7a8cdf602",
            "cef03df5e7fa4e02b7a9bd400e73e78c",
            "fa8c4bd59bc34df8964bb27ef3b8a7f0",
            "427c37010c044b8a87755418996179d6",
            "366b32e94492489db6e78e2f73336a26",
            "7a2bca1169aa47d39ebfa1cb8555eebf",
            "3751330da18e45b2abaab94ac6e5ba5b",
            "bbb8a6dd060a49d9916efb5cd289e2fc",
            "9f156d31246243baab344be1b0d14b24",
            "12087fa25d5644a3b9c3f71153ba5a79",
            "523ca1d1c7754ffb9b27f80bd085b54b"
          ]
        },
        "id": "hokSL5ue5m3n",
        "outputId": "af8d92cf-021d-4c77-b8cd-4ea795546b1a"
      },
      "execution_count": null,
      "outputs": [
        {
          "output_type": "display_data",
          "data": {
            "text/plain": [
              "0it [00:00, ?it/s]"
            ],
            "application/vnd.jupyter.widget-view+json": {
              "version_major": 2,
              "version_minor": 0,
              "model_id": "6fd2d523ec894347be78c3b5983c0d28"
            }
          },
          "metadata": {}
        },
        {
          "output_type": "stream",
          "name": "stderr",
          "text": [
            "Truncation was not explicitly activated but `max_length` is provided a specific value, please use `truncation=True` to explicitly truncate examples to max length. Defaulting to 'longest_first' truncation strategy. If you encode pairs of sequences (GLUE-style) with the tokenizer you can select this strategy more precisely by providing a specific strategy to `truncation`.\n"
          ]
        },
        {
          "output_type": "stream",
          "name": "stdout",
          "text": [
            "(38153, 20)\n"
          ]
        },
        {
          "output_type": "display_data",
          "data": {
            "text/plain": [
              "0it [00:00, ?it/s]"
            ],
            "application/vnd.jupyter.widget-view+json": {
              "version_major": 2,
              "version_minor": 0,
              "model_id": "268d548f682b40f18a4a63b7a8cdf602"
            }
          },
          "metadata": {}
        },
        {
          "output_type": "stream",
          "name": "stdout",
          "text": [
            "(9539, 20)\n"
          ]
        }
      ]
    },
    {
      "cell_type": "code",
      "source": [
        "print(len(inputs), len(inputs[0]), len(inputs[0][0]))\n",
        "\n",
        "# check out input for 7th row\n",
        "xx = 7\n",
        "#print(df_train.iloc[xx,0])\n",
        "#print(sent_tokenize(df_train.iloc[xx,0]))\n",
        "#inputs[0][xx], inputs[3][xx], inputs[6][xx], inputs[15][xx]\n",
        "inputs[0][200]"
      ],
      "metadata": {
        "colab": {
          "base_uri": "https://localhost:8080/"
        },
        "id": "jN3APo736utn",
        "outputId": "c2b619a2-183f-46b5-867b-4abd71a6e164"
      },
      "execution_count": null,
      "outputs": [
        {
          "output_type": "stream",
          "name": "stdout",
          "text": [
            "18 38153 20\n"
          ]
        },
        {
          "output_type": "execute_result",
          "data": {
            "text/plain": [
              "array([  101,  9033,  6894,  8257,  1040, 12273,  6102,  5607,  2082,\n",
              "       21146,  4360,  2375,  3499,  9040,  2775,  8273,  2015,  5466,\n",
              "        5637,   102], dtype=int32)"
            ]
          },
          "metadata": {},
          "execution_count": 25
        }
      ]
    },
    {
      "cell_type": "code",
      "source": [
        "def compute_output_arrays(df, columns):\n",
        "    return np.asarray(df[columns])\n",
        "\n",
        "outputs = compute_output_arrays(df_train, output_categories)\n",
        "outputs[:10]"
      ],
      "metadata": {
        "colab": {
          "base_uri": "https://localhost:8080/"
        },
        "id": "Nwwlqaxw7jsA",
        "outputId": "cb36d6de-d43c-445b-c86c-709f06b963f1"
      },
      "execution_count": null,
      "outputs": [
        {
          "output_type": "execute_result",
          "data": {
            "text/plain": [
              "array([[4],\n",
              "       [4],\n",
              "       [1],\n",
              "       [3],\n",
              "       [2],\n",
              "       [1],\n",
              "       [0],\n",
              "       [3],\n",
              "       [0],\n",
              "       [5]])"
            ]
          },
          "metadata": {},
          "execution_count": 26
        }
      ]
    },
    {
      "cell_type": "code",
      "source": [
        "valid_inputs = inputs\n",
        "valid_outputs = outputs"
      ],
      "metadata": {
        "id": "nPYJkHHv7p_B"
      },
      "execution_count": null,
      "outputs": []
    },
    {
      "cell_type": "code",
      "source": [
        "from keras.models import Model\n",
        "model2= Model(inputs=model.input, outputs=model.layers[-2].output)"
      ],
      "metadata": {
        "id": "r5AZPouk9Fys"
      },
      "execution_count": null,
      "outputs": []
    },
    {
      "cell_type": "code",
      "source": [
        "from keras.models import Sequential\n",
        "from keras.layers import Dense, Input, LSTM, GRU, RNN, SimpleRNN, Dropout"
      ],
      "metadata": {
        "id": "X9C10ZBSCAf7"
      },
      "execution_count": null,
      "outputs": []
    },
    {
      "cell_type": "code",
      "source": [
        "fc = Dense(6,activation='softmax')(model2.output)\n",
        "\n",
        "check_model = Model(inputs=model2.input, outputs=fc)"
      ],
      "metadata": {
        "id": "aHLCs9EPAssU"
      },
      "execution_count": null,
      "outputs": []
    },
    {
      "cell_type": "code",
      "source": [
        "check_model.summary()\n",
        "#https://stackoverflow.com/questions/45755022/cannot-add-layers-to-saved-keras-model-model-object-has-no-attribute-add"
      ],
      "metadata": {
        "colab": {
          "base_uri": "https://localhost:8080/"
        },
        "id": "qhvkwfUjAC6q",
        "outputId": "c67ec9c5-3a21-4694-ef84-4d2e5b377246"
      },
      "execution_count": null,
      "outputs": [
        {
          "output_type": "stream",
          "name": "stdout",
          "text": [
            "Model: \"model_1\"\n",
            "__________________________________________________________________________________________________\n",
            " Layer (type)                   Output Shape         Param #     Connected to                     \n",
            "==================================================================================================\n",
            " input_19 (InputLayer)          [(None, 20)]         0           []                               \n",
            "                                                                                                  \n",
            " input_20 (InputLayer)          [(None, 20)]         0           []                               \n",
            "                                                                                                  \n",
            " input_21 (InputLayer)          [(None, 20)]         0           []                               \n",
            "                                                                                                  \n",
            " input_22 (InputLayer)          [(None, 20)]         0           []                               \n",
            "                                                                                                  \n",
            " input_23 (InputLayer)          [(None, 20)]         0           []                               \n",
            "                                                                                                  \n",
            " input_24 (InputLayer)          [(None, 20)]         0           []                               \n",
            "                                                                                                  \n",
            " input_25 (InputLayer)          [(None, 20)]         0           []                               \n",
            "                                                                                                  \n",
            " input_26 (InputLayer)          [(None, 20)]         0           []                               \n",
            "                                                                                                  \n",
            " input_27 (InputLayer)          [(None, 20)]         0           []                               \n",
            "                                                                                                  \n",
            " input_28 (InputLayer)          [(None, 20)]         0           []                               \n",
            "                                                                                                  \n",
            " input_29 (InputLayer)          [(None, 20)]         0           []                               \n",
            "                                                                                                  \n",
            " input_30 (InputLayer)          [(None, 20)]         0           []                               \n",
            "                                                                                                  \n",
            " input_31 (InputLayer)          [(None, 20)]         0           []                               \n",
            "                                                                                                  \n",
            " input_32 (InputLayer)          [(None, 20)]         0           []                               \n",
            "                                                                                                  \n",
            " input_33 (InputLayer)          [(None, 20)]         0           []                               \n",
            "                                                                                                  \n",
            " input_34 (InputLayer)          [(None, 100)]        0           []                               \n",
            "                                                                                                  \n",
            " input_35 (InputLayer)          [(None, 100)]        0           []                               \n",
            "                                                                                                  \n",
            " input_36 (InputLayer)          [(None, 100)]        0           []                               \n",
            "                                                                                                  \n",
            " bert (Custom>TFBertMainLayer)  multiple             109482240   ['input_19[0][0]',               \n",
            "                                                                  'input_20[0][0]',               \n",
            "                                                                  'input_21[0][0]',               \n",
            "                                                                  'input_22[0][0]',               \n",
            "                                                                  'input_23[0][0]',               \n",
            "                                                                  'input_24[0][0]',               \n",
            "                                                                  'input_25[0][0]',               \n",
            "                                                                  'input_26[0][0]',               \n",
            "                                                                  'input_27[0][0]',               \n",
            "                                                                  'input_28[0][0]',               \n",
            "                                                                  'input_29[0][0]',               \n",
            "                                                                  'input_30[0][0]',               \n",
            "                                                                  'input_31[0][0]',               \n",
            "                                                                  'input_32[0][0]',               \n",
            "                                                                  'input_33[0][0]',               \n",
            "                                                                  'input_34[0][0]',               \n",
            "                                                                  'input_35[0][0]',               \n",
            "                                                                  'input_36[0][0]']               \n",
            "                                                                                                  \n",
            " global_average_pooling1d_6 (Gl  (None, 768)         0           ['bert[0][0]']                   \n",
            " obalAveragePooling1D)                                                                            \n",
            "                                                                                                  \n",
            " global_average_pooling1d_7 (Gl  (None, 768)         0           ['bert[1][0]']                   \n",
            " obalAveragePooling1D)                                                                            \n",
            "                                                                                                  \n",
            " global_average_pooling1d_8 (Gl  (None, 768)         0           ['bert[2][0]']                   \n",
            " obalAveragePooling1D)                                                                            \n",
            "                                                                                                  \n",
            " global_average_pooling1d_9 (Gl  (None, 768)         0           ['bert[3][0]']                   \n",
            " obalAveragePooling1D)                                                                            \n",
            "                                                                                                  \n",
            " global_average_pooling1d_10 (G  (None, 768)         0           ['bert[4][0]']                   \n",
            " lobalAveragePooling1D)                                                                           \n",
            "                                                                                                  \n",
            " global_average_pooling1d_11 (G  (None, 768)         0           ['bert[5][0]']                   \n",
            " lobalAveragePooling1D)                                                                           \n",
            "                                                                                                  \n",
            " dense_15 (Dense)               (None, 32)           24608       ['global_average_pooling1d_6[0][0\n",
            "                                                                 ]']                              \n",
            "                                                                                                  \n",
            " dense_17 (Dense)               (None, 32)           24608       ['global_average_pooling1d_7[0][0\n",
            "                                                                 ]']                              \n",
            "                                                                                                  \n",
            " dense_19 (Dense)               (None, 32)           24608       ['global_average_pooling1d_8[0][0\n",
            "                                                                 ]']                              \n",
            "                                                                                                  \n",
            " dense_21 (Dense)               (None, 32)           24608       ['global_average_pooling1d_9[0][0\n",
            "                                                                 ]']                              \n",
            "                                                                                                  \n",
            " dense_23 (Dense)               (None, 32)           24608       ['global_average_pooling1d_10[0][\n",
            "                                                                 0]']                             \n",
            "                                                                                                  \n",
            " dense_25 (Dense)               (None, 256)          196864      ['global_average_pooling1d_11[0][\n",
            "                                                                 0]']                             \n",
            "                                                                                                  \n",
            " dropout_44 (Dropout)           (None, 32)           0           ['dense_15[0][0]']               \n",
            "                                                                                                  \n",
            " dropout_45 (Dropout)           (None, 32)           0           ['dense_17[0][0]']               \n",
            "                                                                                                  \n",
            " dropout_46 (Dropout)           (None, 32)           0           ['dense_19[0][0]']               \n",
            "                                                                                                  \n",
            " dropout_47 (Dropout)           (None, 32)           0           ['dense_21[0][0]']               \n",
            "                                                                                                  \n",
            " dropout_48 (Dropout)           (None, 32)           0           ['dense_23[0][0]']               \n",
            "                                                                                                  \n",
            " dropout_49 (Dropout)           (None, 256)          0           ['dense_25[0][0]']               \n",
            "                                                                                                  \n",
            " dense_16 (Dense)               (None, 8)            264         ['dropout_44[0][0]']             \n",
            "                                                                                                  \n",
            " dense_18 (Dense)               (None, 8)            264         ['dropout_45[0][0]']             \n",
            "                                                                                                  \n",
            " dense_20 (Dense)               (None, 8)            264         ['dropout_46[0][0]']             \n",
            "                                                                                                  \n",
            " dense_22 (Dense)               (None, 8)            264         ['dropout_47[0][0]']             \n",
            "                                                                                                  \n",
            " dense_24 (Dense)               (None, 8)            264         ['dropout_48[0][0]']             \n",
            "                                                                                                  \n",
            " dense_26 (Dense)               (None, 64)           16448       ['dropout_49[0][0]']             \n",
            "                                                                                                  \n",
            " concatenate_1 (Concatenate)    (None, 104)          0           ['dense_16[0][0]',               \n",
            "                                                                  'dense_18[0][0]',               \n",
            "                                                                  'dense_20[0][0]',               \n",
            "                                                                  'dense_22[0][0]',               \n",
            "                                                                  'dense_24[0][0]',               \n",
            "                                                                  'dense_26[0][0]']               \n",
            "                                                                                                  \n",
            " dense_27 (Dense)               (None, 512)          53760       ['concatenate_1[0][0]']          \n",
            "                                                                                                  \n",
            " dropout_50 (Dropout)           (None, 512)          0           ['dense_27[0][0]']               \n",
            "                                                                                                  \n",
            " dense_28 (Dense)               (None, 256)          131328      ['dropout_50[0][0]']             \n",
            "                                                                                                  \n",
            " dense (Dense)                  (None, 6)            1542        ['dense_28[0][0]']               \n",
            "                                                                                                  \n",
            "==================================================================================================\n",
            "Total params: 110,006,542\n",
            "Trainable params: 110,006,542\n",
            "Non-trainable params: 0\n",
            "__________________________________________________________________________________________________\n"
          ]
        }
      ]
    },
    {
      "cell_type": "code",
      "source": [
        "for layer in check_model.layers[:-1]:\n",
        "        layer.trainable = False"
      ],
      "metadata": {
        "id": "p2za4MpeH2oc"
      },
      "execution_count": null,
      "outputs": []
    },
    {
      "cell_type": "code",
      "source": [
        "check_model.compile(loss='categorical_crossentropy', optimizer='adam', metrics=['accuracy'])"
      ],
      "metadata": {
        "id": "rvJyog63H9vg"
      },
      "execution_count": null,
      "outputs": []
    },
    {
      "cell_type": "code",
      "source": [
        "test_outputs = compute_output_arrays(df_test, output_categories)\n",
        "test_outputs[:2]"
      ],
      "metadata": {
        "colab": {
          "base_uri": "https://localhost:8080/"
        },
        "id": "dSXxHiLjKfAe",
        "outputId": "8d956efe-948c-4db4-9e05-5047a486940c"
      },
      "execution_count": null,
      "outputs": [
        {
          "output_type": "execute_result",
          "data": {
            "text/plain": [
              "array([[0],\n",
              "       [3]])"
            ]
          },
          "metadata": {},
          "execution_count": 34
        }
      ]
    },
    {
      "cell_type": "code",
      "source": [
        "#from sklearn.preprocessing import OneHotEncoder\n",
        "\n",
        "#onehot_encoder = OneHotEncoder(sparse=False)\n",
        "#test_outputs_encoded = onehot_encoder.fit_transform(test_outputs)\n",
        "\n",
        "#valid_outputs_encoded = onehot_encoder.fit_transform(valid_outputs)\n"
      ],
      "metadata": {
        "id": "PZFjD0MvMW_W"
      },
      "execution_count": null,
      "outputs": []
    },
    {
      "cell_type": "code",
      "source": [
        "test_outputs_encoded = tf.keras.utils.to_categorical(test_outputs, num_classes=6)\n",
        "valid_outputs_encoded = tf.keras.utils.to_categorical(valid_outputs, num_classes=6)"
      ],
      "metadata": {
        "id": "iJPJ1N11VEsB"
      },
      "execution_count": null,
      "outputs": []
    },
    {
      "cell_type": "code",
      "source": [
        "#tf.config.run_functions_eagerly(False)"
      ],
      "metadata": {
        "id": "oxOrYCCNObxd"
      },
      "execution_count": null,
      "outputs": []
    },
    {
      "cell_type": "code",
      "source": [
        "len(test_outputs_encoded)"
      ],
      "metadata": {
        "colab": {
          "base_uri": "https://localhost:8080/"
        },
        "id": "9yLB1AoRVopA",
        "outputId": "54063a49-960b-4ca8-8486-ace88ad8a52c"
      },
      "execution_count": null,
      "outputs": [
        {
          "output_type": "execute_result",
          "data": {
            "text/plain": [
              "9539"
            ]
          },
          "metadata": {},
          "execution_count": 36
        }
      ]
    },
    {
      "cell_type": "code",
      "source": [
        "check_model.layers[-2].trainable"
      ],
      "metadata": {
        "colab": {
          "base_uri": "https://localhost:8080/"
        },
        "id": "Fcxw7CAuYWxy",
        "outputId": "1d7d4324-e7c1-43e1-9747-e860b0c62d3e"
      },
      "execution_count": null,
      "outputs": [
        {
          "output_type": "execute_result",
          "data": {
            "text/plain": [
              "False"
            ]
          },
          "metadata": {},
          "execution_count": 37
        }
      ]
    },
    {
      "cell_type": "code",
      "source": [
        "check_model.fit(valid_inputs, valid_outputs_encoded,\n",
        "          batch_size=32,\n",
        "          epochs=5,  # only 2 epochs, for demonstration purposes\n",
        "          verbose=1,\n",
        "          validation_data=(test_inputs, test_outputs_encoded))\n",
        "#\n",
        "          #steps_per_epoch=100, validation_steps=10,\n",
        "          #validation_data=(test_inputs, test_outputs_encoded)"
      ],
      "metadata": {
        "colab": {
          "base_uri": "https://localhost:8080/",
          "height": 414
        },
        "id": "AQjCOSNfIrfJ",
        "outputId": "65d9b033-7107-42b1-9319-141fe7de6ca3"
      },
      "execution_count": null,
      "outputs": [
        {
          "output_type": "stream",
          "name": "stdout",
          "text": [
            "Epoch 1/5\n",
            "   6/1193 [..............................] - ETA: 8:29 - loss: 1.7291 - accuracy: 0.1771"
          ]
        },
        {
          "output_type": "error",
          "ename": "KeyboardInterrupt",
          "evalue": "ignored",
          "traceback": [
            "\u001b[0;31m---------------------------------------------------------------------------\u001b[0m",
            "\u001b[0;31mKeyboardInterrupt\u001b[0m                         Traceback (most recent call last)",
            "\u001b[0;32m<ipython-input-45-a8eb049bc11f>\u001b[0m in \u001b[0;36m<module>\u001b[0;34m()\u001b[0m\n\u001b[1;32m      3\u001b[0m           \u001b[0mepochs\u001b[0m\u001b[0;34m=\u001b[0m\u001b[0;36m5\u001b[0m\u001b[0;34m,\u001b[0m  \u001b[0;31m# only 2 epochs, for demonstration purposes\u001b[0m\u001b[0;34m\u001b[0m\u001b[0;34m\u001b[0m\u001b[0m\n\u001b[1;32m      4\u001b[0m           \u001b[0mverbose\u001b[0m\u001b[0;34m=\u001b[0m\u001b[0;36m1\u001b[0m\u001b[0;34m,\u001b[0m\u001b[0;34m\u001b[0m\u001b[0;34m\u001b[0m\u001b[0m\n\u001b[0;32m----> 5\u001b[0;31m           validation_data=(test_inputs, test_outputs_encoded))\n\u001b[0m\u001b[1;32m      6\u001b[0m \u001b[0;31m#\u001b[0m\u001b[0;34m\u001b[0m\u001b[0;34m\u001b[0m\u001b[0;34m\u001b[0m\u001b[0m\n\u001b[1;32m      7\u001b[0m           \u001b[0;31m#steps_per_epoch=100, validation_steps=10,\u001b[0m\u001b[0;34m\u001b[0m\u001b[0;34m\u001b[0m\u001b[0;34m\u001b[0m\u001b[0m\n",
            "\u001b[0;32m/usr/local/lib/python3.7/dist-packages/keras/utils/traceback_utils.py\u001b[0m in \u001b[0;36merror_handler\u001b[0;34m(*args, **kwargs)\u001b[0m\n\u001b[1;32m     62\u001b[0m     \u001b[0mfiltered_tb\u001b[0m \u001b[0;34m=\u001b[0m \u001b[0;32mNone\u001b[0m\u001b[0;34m\u001b[0m\u001b[0;34m\u001b[0m\u001b[0m\n\u001b[1;32m     63\u001b[0m     \u001b[0;32mtry\u001b[0m\u001b[0;34m:\u001b[0m\u001b[0;34m\u001b[0m\u001b[0;34m\u001b[0m\u001b[0m\n\u001b[0;32m---> 64\u001b[0;31m       \u001b[0;32mreturn\u001b[0m \u001b[0mfn\u001b[0m\u001b[0;34m(\u001b[0m\u001b[0;34m*\u001b[0m\u001b[0margs\u001b[0m\u001b[0;34m,\u001b[0m \u001b[0;34m**\u001b[0m\u001b[0mkwargs\u001b[0m\u001b[0;34m)\u001b[0m\u001b[0;34m\u001b[0m\u001b[0;34m\u001b[0m\u001b[0m\n\u001b[0m\u001b[1;32m     65\u001b[0m     \u001b[0;32mexcept\u001b[0m \u001b[0mException\u001b[0m \u001b[0;32mas\u001b[0m \u001b[0me\u001b[0m\u001b[0;34m:\u001b[0m  \u001b[0;31m# pylint: disable=broad-except\u001b[0m\u001b[0;34m\u001b[0m\u001b[0;34m\u001b[0m\u001b[0m\n\u001b[1;32m     66\u001b[0m       \u001b[0mfiltered_tb\u001b[0m \u001b[0;34m=\u001b[0m \u001b[0m_process_traceback_frames\u001b[0m\u001b[0;34m(\u001b[0m\u001b[0me\u001b[0m\u001b[0;34m.\u001b[0m\u001b[0m__traceback__\u001b[0m\u001b[0;34m)\u001b[0m\u001b[0;34m\u001b[0m\u001b[0;34m\u001b[0m\u001b[0m\n",
            "\u001b[0;32m/usr/local/lib/python3.7/dist-packages/keras/engine/training.py\u001b[0m in \u001b[0;36mfit\u001b[0;34m(self, x, y, batch_size, epochs, verbose, callbacks, validation_split, validation_data, shuffle, class_weight, sample_weight, initial_epoch, steps_per_epoch, validation_steps, validation_batch_size, validation_freq, max_queue_size, workers, use_multiprocessing)\u001b[0m\n\u001b[1;32m   1382\u001b[0m                 _r=1):\n\u001b[1;32m   1383\u001b[0m               \u001b[0mcallbacks\u001b[0m\u001b[0;34m.\u001b[0m\u001b[0mon_train_batch_begin\u001b[0m\u001b[0;34m(\u001b[0m\u001b[0mstep\u001b[0m\u001b[0;34m)\u001b[0m\u001b[0;34m\u001b[0m\u001b[0;34m\u001b[0m\u001b[0m\n\u001b[0;32m-> 1384\u001b[0;31m               \u001b[0mtmp_logs\u001b[0m \u001b[0;34m=\u001b[0m \u001b[0mself\u001b[0m\u001b[0;34m.\u001b[0m\u001b[0mtrain_function\u001b[0m\u001b[0;34m(\u001b[0m\u001b[0miterator\u001b[0m\u001b[0;34m)\u001b[0m\u001b[0;34m\u001b[0m\u001b[0;34m\u001b[0m\u001b[0m\n\u001b[0m\u001b[1;32m   1385\u001b[0m               \u001b[0;32mif\u001b[0m \u001b[0mdata_handler\u001b[0m\u001b[0;34m.\u001b[0m\u001b[0mshould_sync\u001b[0m\u001b[0;34m:\u001b[0m\u001b[0;34m\u001b[0m\u001b[0;34m\u001b[0m\u001b[0m\n\u001b[1;32m   1386\u001b[0m                 \u001b[0mcontext\u001b[0m\u001b[0;34m.\u001b[0m\u001b[0masync_wait\u001b[0m\u001b[0;34m(\u001b[0m\u001b[0;34m)\u001b[0m\u001b[0;34m\u001b[0m\u001b[0;34m\u001b[0m\u001b[0m\n",
            "\u001b[0;32m/usr/local/lib/python3.7/dist-packages/tensorflow/python/util/traceback_utils.py\u001b[0m in \u001b[0;36merror_handler\u001b[0;34m(*args, **kwargs)\u001b[0m\n\u001b[1;32m    148\u001b[0m     \u001b[0mfiltered_tb\u001b[0m \u001b[0;34m=\u001b[0m \u001b[0;32mNone\u001b[0m\u001b[0;34m\u001b[0m\u001b[0;34m\u001b[0m\u001b[0m\n\u001b[1;32m    149\u001b[0m     \u001b[0;32mtry\u001b[0m\u001b[0;34m:\u001b[0m\u001b[0;34m\u001b[0m\u001b[0;34m\u001b[0m\u001b[0m\n\u001b[0;32m--> 150\u001b[0;31m       \u001b[0;32mreturn\u001b[0m \u001b[0mfn\u001b[0m\u001b[0;34m(\u001b[0m\u001b[0;34m*\u001b[0m\u001b[0margs\u001b[0m\u001b[0;34m,\u001b[0m \u001b[0;34m**\u001b[0m\u001b[0mkwargs\u001b[0m\u001b[0;34m)\u001b[0m\u001b[0;34m\u001b[0m\u001b[0;34m\u001b[0m\u001b[0m\n\u001b[0m\u001b[1;32m    151\u001b[0m     \u001b[0;32mexcept\u001b[0m \u001b[0mException\u001b[0m \u001b[0;32mas\u001b[0m \u001b[0me\u001b[0m\u001b[0;34m:\u001b[0m\u001b[0;34m\u001b[0m\u001b[0;34m\u001b[0m\u001b[0m\n\u001b[1;32m    152\u001b[0m       \u001b[0mfiltered_tb\u001b[0m \u001b[0;34m=\u001b[0m \u001b[0m_process_traceback_frames\u001b[0m\u001b[0;34m(\u001b[0m\u001b[0me\u001b[0m\u001b[0;34m.\u001b[0m\u001b[0m__traceback__\u001b[0m\u001b[0;34m)\u001b[0m\u001b[0;34m\u001b[0m\u001b[0;34m\u001b[0m\u001b[0m\n",
            "\u001b[0;32m/usr/local/lib/python3.7/dist-packages/tensorflow/python/eager/def_function.py\u001b[0m in \u001b[0;36m__call__\u001b[0;34m(self, *args, **kwds)\u001b[0m\n\u001b[1;32m    913\u001b[0m \u001b[0;34m\u001b[0m\u001b[0m\n\u001b[1;32m    914\u001b[0m       \u001b[0;32mwith\u001b[0m \u001b[0mOptionalXlaContext\u001b[0m\u001b[0;34m(\u001b[0m\u001b[0mself\u001b[0m\u001b[0;34m.\u001b[0m\u001b[0m_jit_compile\u001b[0m\u001b[0;34m)\u001b[0m\u001b[0;34m:\u001b[0m\u001b[0;34m\u001b[0m\u001b[0;34m\u001b[0m\u001b[0m\n\u001b[0;32m--> 915\u001b[0;31m         \u001b[0mresult\u001b[0m \u001b[0;34m=\u001b[0m \u001b[0mself\u001b[0m\u001b[0;34m.\u001b[0m\u001b[0m_call\u001b[0m\u001b[0;34m(\u001b[0m\u001b[0;34m*\u001b[0m\u001b[0margs\u001b[0m\u001b[0;34m,\u001b[0m \u001b[0;34m**\u001b[0m\u001b[0mkwds\u001b[0m\u001b[0;34m)\u001b[0m\u001b[0;34m\u001b[0m\u001b[0;34m\u001b[0m\u001b[0m\n\u001b[0m\u001b[1;32m    916\u001b[0m \u001b[0;34m\u001b[0m\u001b[0m\n\u001b[1;32m    917\u001b[0m       \u001b[0mnew_tracing_count\u001b[0m \u001b[0;34m=\u001b[0m \u001b[0mself\u001b[0m\u001b[0;34m.\u001b[0m\u001b[0mexperimental_get_tracing_count\u001b[0m\u001b[0;34m(\u001b[0m\u001b[0;34m)\u001b[0m\u001b[0;34m\u001b[0m\u001b[0;34m\u001b[0m\u001b[0m\n",
            "\u001b[0;32m/usr/local/lib/python3.7/dist-packages/tensorflow/python/eager/def_function.py\u001b[0m in \u001b[0;36m_call\u001b[0;34m(self, *args, **kwds)\u001b[0m\n\u001b[1;32m    945\u001b[0m       \u001b[0;31m# In this case we have created variables on the first call, so we run the\u001b[0m\u001b[0;34m\u001b[0m\u001b[0;34m\u001b[0m\u001b[0;34m\u001b[0m\u001b[0m\n\u001b[1;32m    946\u001b[0m       \u001b[0;31m# defunned version which is guaranteed to never create variables.\u001b[0m\u001b[0;34m\u001b[0m\u001b[0;34m\u001b[0m\u001b[0;34m\u001b[0m\u001b[0m\n\u001b[0;32m--> 947\u001b[0;31m       \u001b[0;32mreturn\u001b[0m \u001b[0mself\u001b[0m\u001b[0;34m.\u001b[0m\u001b[0m_stateless_fn\u001b[0m\u001b[0;34m(\u001b[0m\u001b[0;34m*\u001b[0m\u001b[0margs\u001b[0m\u001b[0;34m,\u001b[0m \u001b[0;34m**\u001b[0m\u001b[0mkwds\u001b[0m\u001b[0;34m)\u001b[0m  \u001b[0;31m# pylint: disable=not-callable\u001b[0m\u001b[0;34m\u001b[0m\u001b[0;34m\u001b[0m\u001b[0m\n\u001b[0m\u001b[1;32m    948\u001b[0m     \u001b[0;32melif\u001b[0m \u001b[0mself\u001b[0m\u001b[0;34m.\u001b[0m\u001b[0m_stateful_fn\u001b[0m \u001b[0;32mis\u001b[0m \u001b[0;32mnot\u001b[0m \u001b[0;32mNone\u001b[0m\u001b[0;34m:\u001b[0m\u001b[0;34m\u001b[0m\u001b[0;34m\u001b[0m\u001b[0m\n\u001b[1;32m    949\u001b[0m       \u001b[0;31m# Release the lock early so that multiple threads can perform the call\u001b[0m\u001b[0;34m\u001b[0m\u001b[0;34m\u001b[0m\u001b[0;34m\u001b[0m\u001b[0m\n",
            "\u001b[0;32m/usr/local/lib/python3.7/dist-packages/tensorflow/python/eager/function.py\u001b[0m in \u001b[0;36m__call__\u001b[0;34m(self, *args, **kwargs)\u001b[0m\n\u001b[1;32m   2955\u001b[0m        filtered_flat_args) = self._maybe_define_function(args, kwargs)\n\u001b[1;32m   2956\u001b[0m     return graph_function._call_flat(\n\u001b[0;32m-> 2957\u001b[0;31m         filtered_flat_args, captured_inputs=graph_function.captured_inputs)  # pylint: disable=protected-access\n\u001b[0m\u001b[1;32m   2958\u001b[0m \u001b[0;34m\u001b[0m\u001b[0m\n\u001b[1;32m   2959\u001b[0m   \u001b[0;34m@\u001b[0m\u001b[0mproperty\u001b[0m\u001b[0;34m\u001b[0m\u001b[0;34m\u001b[0m\u001b[0m\n",
            "\u001b[0;32m/usr/local/lib/python3.7/dist-packages/tensorflow/python/eager/function.py\u001b[0m in \u001b[0;36m_call_flat\u001b[0;34m(self, args, captured_inputs, cancellation_manager)\u001b[0m\n\u001b[1;32m   1852\u001b[0m       \u001b[0;31m# No tape is watching; skip to running the function.\u001b[0m\u001b[0;34m\u001b[0m\u001b[0;34m\u001b[0m\u001b[0;34m\u001b[0m\u001b[0m\n\u001b[1;32m   1853\u001b[0m       return self._build_call_outputs(self._inference_function.call(\n\u001b[0;32m-> 1854\u001b[0;31m           ctx, args, cancellation_manager=cancellation_manager))\n\u001b[0m\u001b[1;32m   1855\u001b[0m     forward_backward = self._select_forward_and_backward_functions(\n\u001b[1;32m   1856\u001b[0m         \u001b[0margs\u001b[0m\u001b[0;34m,\u001b[0m\u001b[0;34m\u001b[0m\u001b[0;34m\u001b[0m\u001b[0m\n",
            "\u001b[0;32m/usr/local/lib/python3.7/dist-packages/tensorflow/python/eager/function.py\u001b[0m in \u001b[0;36mcall\u001b[0;34m(self, ctx, args, cancellation_manager)\u001b[0m\n\u001b[1;32m    502\u001b[0m               \u001b[0minputs\u001b[0m\u001b[0;34m=\u001b[0m\u001b[0margs\u001b[0m\u001b[0;34m,\u001b[0m\u001b[0;34m\u001b[0m\u001b[0;34m\u001b[0m\u001b[0m\n\u001b[1;32m    503\u001b[0m               \u001b[0mattrs\u001b[0m\u001b[0;34m=\u001b[0m\u001b[0mattrs\u001b[0m\u001b[0;34m,\u001b[0m\u001b[0;34m\u001b[0m\u001b[0;34m\u001b[0m\u001b[0m\n\u001b[0;32m--> 504\u001b[0;31m               ctx=ctx)\n\u001b[0m\u001b[1;32m    505\u001b[0m         \u001b[0;32melse\u001b[0m\u001b[0;34m:\u001b[0m\u001b[0;34m\u001b[0m\u001b[0;34m\u001b[0m\u001b[0m\n\u001b[1;32m    506\u001b[0m           outputs = execute.execute_with_cancellation(\n",
            "\u001b[0;32m/usr/local/lib/python3.7/dist-packages/tensorflow/python/eager/execute.py\u001b[0m in \u001b[0;36mquick_execute\u001b[0;34m(op_name, num_outputs, inputs, attrs, ctx, name)\u001b[0m\n\u001b[1;32m     53\u001b[0m     \u001b[0mctx\u001b[0m\u001b[0;34m.\u001b[0m\u001b[0mensure_initialized\u001b[0m\u001b[0;34m(\u001b[0m\u001b[0;34m)\u001b[0m\u001b[0;34m\u001b[0m\u001b[0;34m\u001b[0m\u001b[0m\n\u001b[1;32m     54\u001b[0m     tensors = pywrap_tfe.TFE_Py_Execute(ctx._handle, device_name, op_name,\n\u001b[0;32m---> 55\u001b[0;31m                                         inputs, attrs, num_outputs)\n\u001b[0m\u001b[1;32m     56\u001b[0m   \u001b[0;32mexcept\u001b[0m \u001b[0mcore\u001b[0m\u001b[0;34m.\u001b[0m\u001b[0m_NotOkStatusException\u001b[0m \u001b[0;32mas\u001b[0m \u001b[0me\u001b[0m\u001b[0;34m:\u001b[0m\u001b[0;34m\u001b[0m\u001b[0;34m\u001b[0m\u001b[0m\n\u001b[1;32m     57\u001b[0m     \u001b[0;32mif\u001b[0m \u001b[0mname\u001b[0m \u001b[0;32mis\u001b[0m \u001b[0;32mnot\u001b[0m \u001b[0;32mNone\u001b[0m\u001b[0;34m:\u001b[0m\u001b[0;34m\u001b[0m\u001b[0;34m\u001b[0m\u001b[0m\n",
            "\u001b[0;31mKeyboardInterrupt\u001b[0m: "
          ]
        }
      ]
    },
    {
      "cell_type": "code",
      "source": [
        "test_preds = check_model.predict(test_inputs)"
      ],
      "metadata": {
        "id": "WBJcvanKB5Uu"
      },
      "execution_count": null,
      "outputs": []
    },
    {
      "cell_type": "code",
      "source": [
        "test_loss, test_acc = check_model.evaluate(test_inputs,  test_outputs_encoded, verbose=2)\n",
        "\n",
        "print('\\nTest accuracy:', test_acc)"
      ],
      "metadata": {
        "colab": {
          "base_uri": "https://localhost:8080/"
        },
        "id": "JiC74hTYe2_T",
        "outputId": "bbdc7c40-357a-4e99-837c-186703a10ce7"
      },
      "execution_count": null,
      "outputs": [
        {
          "output_type": "stream",
          "name": "stdout",
          "text": [
            "299/299 - 122s - loss: 1.7300 - accuracy: 0.2313 - 122s/epoch - 409ms/step\n",
            "\n",
            "Test accuracy: 0.23126113414764404\n"
          ]
        }
      ]
    },
    {
      "cell_type": "code",
      "source": [
        "test_preds"
      ],
      "metadata": {
        "colab": {
          "base_uri": "https://localhost:8080/"
        },
        "id": "sVVxSBqecq99",
        "outputId": "e933b17b-7b11-4557-a211-8a62cd7a36a1"
      },
      "execution_count": null,
      "outputs": [
        {
          "output_type": "execute_result",
          "data": {
            "text/plain": [
              "array([[0.12283842, 0.1255345 , 0.22886367, 0.10736358, 0.18325388,\n",
              "        0.23214601],\n",
              "       [0.13627303, 0.11630222, 0.21561876, 0.11592054, 0.18740356,\n",
              "        0.22848187],\n",
              "       [0.23645478, 0.15791282, 0.14679839, 0.12363876, 0.23502466,\n",
              "        0.1001706 ],\n",
              "       ...,\n",
              "       [0.12959604, 0.12357841, 0.2253802 , 0.09921533, 0.1690061 ,\n",
              "        0.25322393],\n",
              "       [0.13471094, 0.12331535, 0.22231829, 0.13621874, 0.17472155,\n",
              "        0.20871508],\n",
              "       [0.18075736, 0.16516162, 0.20811665, 0.11500063, 0.18757764,\n",
              "        0.14338608]], dtype=float32)"
            ]
          },
          "metadata": {},
          "execution_count": 38
        }
      ]
    },
    {
      "cell_type": "code",
      "source": [
        "check_model.summary()"
      ],
      "metadata": {
        "colab": {
          "base_uri": "https://localhost:8080/"
        },
        "id": "PgCqFAP2E2jL",
        "outputId": "975d3a10-c518-4ccd-f867-9055455223e2"
      },
      "execution_count": null,
      "outputs": [
        {
          "output_type": "stream",
          "name": "stdout",
          "text": [
            "Model: \"model_2\"\n",
            "__________________________________________________________________________________________________\n",
            " Layer (type)                   Output Shape         Param #     Connected to                     \n",
            "==================================================================================================\n",
            " input_19 (InputLayer)          [(None, 20)]         0           []                               \n",
            "                                                                                                  \n",
            " input_20 (InputLayer)          multiple             0           []                               \n",
            "                                                                                                  \n",
            " input_21 (InputLayer)          multiple             0           []                               \n",
            "                                                                                                  \n",
            " input_22 (InputLayer)          multiple             0           []                               \n",
            "                                                                                                  \n",
            " input_23 (InputLayer)          multiple             0           []                               \n",
            "                                                                                                  \n",
            " input_24 (InputLayer)          multiple             0           []                               \n",
            "                                                                                                  \n",
            " input_25 (InputLayer)          multiple             0           []                               \n",
            "                                                                                                  \n",
            " input_26 (InputLayer)          multiple             0           []                               \n",
            "                                                                                                  \n",
            " input_27 (InputLayer)          multiple             0           []                               \n",
            "                                                                                                  \n",
            " input_28 (InputLayer)          multiple             0           []                               \n",
            "                                                                                                  \n",
            " input_29 (InputLayer)          multiple             0           []                               \n",
            "                                                                                                  \n",
            " input_30 (InputLayer)          multiple             0           []                               \n",
            "                                                                                                  \n",
            " input_31 (InputLayer)          multiple             0           []                               \n",
            "                                                                                                  \n",
            " input_32 (InputLayer)          multiple             0           []                               \n",
            "                                                                                                  \n",
            " input_33 (InputLayer)          multiple             0           []                               \n",
            "                                                                                                  \n",
            " input_34 (InputLayer)          multiple             0           []                               \n",
            "                                                                                                  \n",
            " input_35 (InputLayer)          multiple             0           []                               \n",
            "                                                                                                  \n",
            " input_36 (InputLayer)          multiple             0           []                               \n",
            "                                                                                                  \n",
            " bert (Custom>TFBertMainLayer)  multiple             109482240   ['input_19[0][0]',               \n",
            "                                                                  'input_20[0][0]',               \n",
            "                                                                  'input_21[0][0]',               \n",
            "                                                                  'input_22[0][0]',               \n",
            "                                                                  'input_23[0][0]',               \n",
            "                                                                  'input_24[0][0]',               \n",
            "                                                                  'input_25[0][0]',               \n",
            "                                                                  'input_26[0][0]',               \n",
            "                                                                  'input_27[0][0]',               \n",
            "                                                                  'input_28[0][0]',               \n",
            "                                                                  'input_29[0][0]',               \n",
            "                                                                  'input_30[0][0]',               \n",
            "                                                                  'input_31[0][0]',               \n",
            "                                                                  'input_32[0][0]',               \n",
            "                                                                  'input_33[0][0]',               \n",
            "                                                                  'input_34[0][0]',               \n",
            "                                                                  'input_35[0][0]',               \n",
            "                                                                  'input_36[0][0]']               \n",
            "                                                                                                  \n",
            " global_average_pooling1d_6 (Gl  (None, 768)         0           ['bert[0][0]']                   \n",
            " obalAveragePooling1D)                                                                            \n",
            "                                                                                                  \n",
            " global_average_pooling1d_7 (Gl  (None, 768)         0           ['bert[1][0]']                   \n",
            " obalAveragePooling1D)                                                                            \n",
            "                                                                                                  \n",
            " global_average_pooling1d_8 (Gl  (None, 768)         0           ['bert[2][0]']                   \n",
            " obalAveragePooling1D)                                                                            \n",
            "                                                                                                  \n",
            " global_average_pooling1d_9 (Gl  (None, 768)         0           ['bert[3][0]']                   \n",
            " obalAveragePooling1D)                                                                            \n",
            "                                                                                                  \n",
            " global_average_pooling1d_10 (G  (None, 768)         0           ['bert[4][0]']                   \n",
            " lobalAveragePooling1D)                                                                           \n",
            "                                                                                                  \n",
            " global_average_pooling1d_11 (G  (None, 768)         0           ['bert[5][0]']                   \n",
            " lobalAveragePooling1D)                                                                           \n",
            "                                                                                                  \n",
            " dense_15 (Dense)               (None, 32)           24608       ['global_average_pooling1d_6[0][0\n",
            "                                                                 ]']                              \n",
            "                                                                                                  \n",
            " dense_17 (Dense)               (None, 32)           24608       ['global_average_pooling1d_7[0][0\n",
            "                                                                 ]']                              \n",
            "                                                                                                  \n",
            " dense_19 (Dense)               (None, 32)           24608       ['global_average_pooling1d_8[0][0\n",
            "                                                                 ]']                              \n",
            "                                                                                                  \n",
            " dense_21 (Dense)               (None, 32)           24608       ['global_average_pooling1d_9[0][0\n",
            "                                                                 ]']                              \n",
            "                                                                                                  \n",
            " dense_23 (Dense)               (None, 32)           24608       ['global_average_pooling1d_10[0][\n",
            "                                                                 0]']                             \n",
            "                                                                                                  \n",
            " dense_25 (Dense)               (None, 256)          196864      ['global_average_pooling1d_11[0][\n",
            "                                                                 0]']                             \n",
            "                                                                                                  \n",
            " dropout_44 (Dropout)           (None, 32)           0           ['dense_15[0][0]']               \n",
            "                                                                                                  \n",
            " dropout_45 (Dropout)           (None, 32)           0           ['dense_17[0][0]']               \n",
            "                                                                                                  \n",
            " dropout_46 (Dropout)           (None, 32)           0           ['dense_19[0][0]']               \n",
            "                                                                                                  \n",
            " dropout_47 (Dropout)           (None, 32)           0           ['dense_21[0][0]']               \n",
            "                                                                                                  \n",
            " dropout_48 (Dropout)           (None, 32)           0           ['dense_23[0][0]']               \n",
            "                                                                                                  \n",
            " dropout_49 (Dropout)           (None, 256)          0           ['dense_25[0][0]']               \n",
            "                                                                                                  \n",
            " dense_16 (Dense)               (None, 8)            264         ['dropout_44[0][0]']             \n",
            "                                                                                                  \n",
            " dense_18 (Dense)               (None, 8)            264         ['dropout_45[0][0]']             \n",
            "                                                                                                  \n",
            " dense_20 (Dense)               (None, 8)            264         ['dropout_46[0][0]']             \n",
            "                                                                                                  \n",
            " dense_22 (Dense)               (None, 8)            264         ['dropout_47[0][0]']             \n",
            "                                                                                                  \n",
            " dense_24 (Dense)               (None, 8)            264         ['dropout_48[0][0]']             \n",
            "                                                                                                  \n",
            " dense_26 (Dense)               (None, 64)           16448       ['dropout_49[0][0]']             \n",
            "                                                                                                  \n",
            " concatenate_1 (Concatenate)    (None, 104)          0           ['dense_16[0][0]',               \n",
            "                                                                  'dense_18[0][0]',               \n",
            "                                                                  'dense_20[0][0]',               \n",
            "                                                                  'dense_22[0][0]',               \n",
            "                                                                  'dense_24[0][0]',               \n",
            "                                                                  'dense_26[0][0]']               \n",
            "                                                                                                  \n",
            " dense_27 (Dense)               (None, 512)          53760       ['concatenate_1[0][0]']          \n",
            "                                                                                                  \n",
            " dropout_50 (Dropout)           (None, 512)          0           ['dense_27[0][0]']               \n",
            "                                                                                                  \n",
            " dense_28 (Dense)               (None, 256)          131328      ['dropout_50[0][0]']             \n",
            "                                                                                                  \n",
            " dense_2 (Dense)                (None, 6)            1542        ['dense_28[0][0]']               \n",
            "                                                                                                  \n",
            "==================================================================================================\n",
            "Total params: 110,006,542\n",
            "Trainable params: 1,542\n",
            "Non-trainable params: 110,005,000\n",
            "__________________________________________________________________________________________________\n"
          ]
        }
      ]
    }
  ]
}